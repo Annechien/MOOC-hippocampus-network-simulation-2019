{
 "cells": [
  {
   "cell_type": "markdown",
   "metadata": {},
   "source": [
    "## Number of synapses per connection"
   ]
  },
  {
   "cell_type": "markdown",
   "metadata": {},
   "source": [
    "In this notebook you will analyze and validate one of parameter of the connectome: the number of synapses per connection.\n",
    "\n",
    "Cell A is connected to cell B if the axon of one cell makes at leat one synapse on the other cell (we do not consider gap junction).\n",
    "\n",
    "A connection has a direction, so between A and B we can identify two pathways. A->B means that axon from A creates the synapse(s) on B, while B->A means that axon from B creates the synapse(s) on A.\n",
    "\n",
    "Another important point is that a connection may have one or multiple synapses, that have an impact on the anatomy and physiology of the network.\n",
    "\n",
    "In this notebook, you will analyze the number of synapses per connection in all the possible pathways.\n",
    "\n",
    "---"
   ]
  },
  {
   "cell_type": "markdown",
   "metadata": {},
   "source": [
    "Import some python packages."
   ]
  },
  {
   "cell_type": "code",
   "execution_count": 1,
   "metadata": {},
   "outputs": [],
   "source": [
    "import itertools\n",
    "import numpy as np\n",
    "import pandas as pd\n",
    "import matplotlib.pyplot as plt\n",
    "import seaborn\n",
    "\n",
    "from bluepysnap import Circuit\n",
    "from bluepysnap.bbp import Cell"
   ]
  },
  {
   "cell_type": "markdown",
   "metadata": {},
   "source": [
    "Reading and preparing the data."
   ]
  },
  {
   "cell_type": "code",
   "execution_count": 3,
   "metadata": {},
   "outputs": [],
   "source": [
    "circuit_path = '/home/tdelemon/1.Workdir/tests/mooc-106/circuit/circuit_config.json'\n",
    "circuit = Circuit(circuit_path)\n",
    "cells = circuit.nodes[\"hippocampus_neurons\"]\n",
    "conn = circuit.edges[\"hippocampus_neurons__hippocampus_neurons__chemical\"]"
   ]
  },
  {
   "cell_type": "markdown",
   "metadata": {},
   "source": [
    "Initialize where to store the results.\n",
    "\n",
    "Since all the possible pathways form a 2D matrix, it is convenient to have one matrix where to store means and another one where to store standard deviations.\n",
    "\n",
    "Furthermore, you are going to compare the result with values extracted from literature. Among those values, you have the number of synapses per connection in parvalbumin positive (PV+) cells, a group that includes SP_PVBC, SP_BS, and SP_AA. The group PV is already defined in the circuit, but you have to include it in the matrices."
   ]
  },
  {
   "cell_type": "code",
   "execution_count": 4,
   "metadata": {},
   "outputs": [],
   "source": [
    "mtypes = cells.property_values(Cell.MTYPE)\n",
    "model_mean = pd.DataFrame(index=mtypes, columns=mtypes.union({u'PV'}), dtype=float)\n",
    "model_std = pd.DataFrame(index=mtypes, columns=mtypes.union({u'PV'}), dtype=float)"
   ]
  },
  {
   "cell_type": "markdown",
   "metadata": {},
   "source": [
    "The analysis could be quite expensive, so better to reduce the number of samples.\n",
    "\n",
    "Furthermore, since you will repeat the same analysis many times, it is covenient to create a helper function."
   ]
  },
  {
   "cell_type": "code",
   "execution_count": 5,
   "metadata": {},
   "outputs": [],
   "source": [
    "nsample = 100\n",
    "def sample_nsyn(pre, post):\n",
    "    it = conn.iter_connections(pre, post, return_edge_count=True)\n",
    "    return np.array([p[2] for p in itertools.islice(it, nsample)])"
   ]
  },
  {
   "cell_type": "markdown",
   "metadata": {},
   "source": [
    "Here, you run the analysis.\n",
    "\n",
    "Note that the function sample_nsyn returns a 2D matrix with all the same connections for a given pathway.\n",
    "\n",
    "From this matrix, you will calculate the mean and standard deviation that end up in the result matrices. The current position in the analysis loop is indicated by the processed m-type. "
   ]
  },
  {
   "cell_type": "code",
   "execution_count": 6,
   "metadata": {},
   "outputs": [
    {
     "name": "stdout",
     "output_type": "stream",
     "text": [
      "SO_Tri\n",
      "SO_BS\n",
      "SP_AA\n",
      "SO_BP\n",
      "SP_CCKBC\n",
      "SP_Ivy\n",
      "SP_BS\n",
      "SLM_PPA\n",
      "SR_SCA\n",
      "SP_PC\n",
      "SO_OLM\n",
      "SP_PVBC\n"
     ]
    }
   ],
   "source": [
    "for pre_mtype in mtypes:\n",
    "    for post_mtype in mtypes:\n",
    "        data = sample_nsyn(\n",
    "            pre={Cell.MTYPE: pre_mtype, Cell.REGION: {'$regex': 'mc2.*'}},\n",
    "            post={Cell.MTYPE: post_mtype}\n",
    "        )\n",
    "        if len(data) != 0:\n",
    "            model_mean[post_mtype][pre_mtype] = data.mean()\n",
    "            model_std[post_mtype][pre_mtype] = data.std()\n",
    "    print(pre_mtype)"
   ]
  },
  {
   "cell_type": "code",
   "execution_count": 7,
   "metadata": {},
   "outputs": [
    {
     "data": {
      "text/html": [
       "<div>\n",
       "<style scoped>\n",
       "    .dataframe tbody tr th:only-of-type {\n",
       "        vertical-align: middle;\n",
       "    }\n",
       "\n",
       "    .dataframe tbody tr th {\n",
       "        vertical-align: top;\n",
       "    }\n",
       "\n",
       "    .dataframe thead th {\n",
       "        text-align: right;\n",
       "    }\n",
       "</style>\n",
       "<table border=\"1\" class=\"dataframe\">\n",
       "  <thead>\n",
       "    <tr style=\"text-align: right;\">\n",
       "      <th></th>\n",
       "      <th>SO_Tri</th>\n",
       "      <th>SO_BS</th>\n",
       "      <th>SP_AA</th>\n",
       "      <th>SO_BP</th>\n",
       "      <th>SP_CCKBC</th>\n",
       "      <th>SP_Ivy</th>\n",
       "      <th>PV</th>\n",
       "      <th>SP_BS</th>\n",
       "      <th>SLM_PPA</th>\n",
       "      <th>SR_SCA</th>\n",
       "      <th>SP_PC</th>\n",
       "      <th>SO_OLM</th>\n",
       "      <th>SP_PVBC</th>\n",
       "    </tr>\n",
       "  </thead>\n",
       "  <tbody>\n",
       "    <tr>\n",
       "      <th>SO_Tri</th>\n",
       "      <td>3.050000</td>\n",
       "      <td>3.000000</td>\n",
       "      <td>2.000000</td>\n",
       "      <td>2.000000</td>\n",
       "      <td>1.348485</td>\n",
       "      <td>2.940000</td>\n",
       "      <td>NaN</td>\n",
       "      <td>3.173913</td>\n",
       "      <td>NaN</td>\n",
       "      <td>1.470588</td>\n",
       "      <td>6.83</td>\n",
       "      <td>3.000000</td>\n",
       "      <td>3.510000</td>\n",
       "    </tr>\n",
       "    <tr>\n",
       "      <th>SO_BS</th>\n",
       "      <td>1.333333</td>\n",
       "      <td>NaN</td>\n",
       "      <td>1.545455</td>\n",
       "      <td>1.500000</td>\n",
       "      <td>1.541667</td>\n",
       "      <td>2.486111</td>\n",
       "      <td>NaN</td>\n",
       "      <td>2.312500</td>\n",
       "      <td>NaN</td>\n",
       "      <td>1.833333</td>\n",
       "      <td>6.50</td>\n",
       "      <td>1.600000</td>\n",
       "      <td>3.204545</td>\n",
       "    </tr>\n",
       "    <tr>\n",
       "      <th>SP_AA</th>\n",
       "      <td>NaN</td>\n",
       "      <td>NaN</td>\n",
       "      <td>NaN</td>\n",
       "      <td>NaN</td>\n",
       "      <td>NaN</td>\n",
       "      <td>NaN</td>\n",
       "      <td>NaN</td>\n",
       "      <td>NaN</td>\n",
       "      <td>NaN</td>\n",
       "      <td>NaN</td>\n",
       "      <td>7.24</td>\n",
       "      <td>NaN</td>\n",
       "      <td>NaN</td>\n",
       "    </tr>\n",
       "    <tr>\n",
       "      <th>SO_BP</th>\n",
       "      <td>NaN</td>\n",
       "      <td>NaN</td>\n",
       "      <td>NaN</td>\n",
       "      <td>NaN</td>\n",
       "      <td>NaN</td>\n",
       "      <td>NaN</td>\n",
       "      <td>NaN</td>\n",
       "      <td>NaN</td>\n",
       "      <td>NaN</td>\n",
       "      <td>NaN</td>\n",
       "      <td>NaN</td>\n",
       "      <td>NaN</td>\n",
       "      <td>NaN</td>\n",
       "    </tr>\n",
       "    <tr>\n",
       "      <th>SP_CCKBC</th>\n",
       "      <td>3.073171</td>\n",
       "      <td>1.750000</td>\n",
       "      <td>1.712644</td>\n",
       "      <td>2.666667</td>\n",
       "      <td>1.400000</td>\n",
       "      <td>3.210000</td>\n",
       "      <td>NaN</td>\n",
       "      <td>4.780000</td>\n",
       "      <td>NaN</td>\n",
       "      <td>1.285714</td>\n",
       "      <td>8.64</td>\n",
       "      <td>1.272727</td>\n",
       "      <td>4.160000</td>\n",
       "    </tr>\n",
       "    <tr>\n",
       "      <th>SP_Ivy</th>\n",
       "      <td>3.470000</td>\n",
       "      <td>1.368421</td>\n",
       "      <td>3.140000</td>\n",
       "      <td>1.275000</td>\n",
       "      <td>2.670000</td>\n",
       "      <td>4.700000</td>\n",
       "      <td>NaN</td>\n",
       "      <td>5.830000</td>\n",
       "      <td>1.0</td>\n",
       "      <td>2.833333</td>\n",
       "      <td>14.37</td>\n",
       "      <td>1.246154</td>\n",
       "      <td>6.130000</td>\n",
       "    </tr>\n",
       "    <tr>\n",
       "      <th>SP_BS</th>\n",
       "      <td>2.655172</td>\n",
       "      <td>2.153846</td>\n",
       "      <td>2.870968</td>\n",
       "      <td>2.222222</td>\n",
       "      <td>1.800000</td>\n",
       "      <td>3.880000</td>\n",
       "      <td>NaN</td>\n",
       "      <td>4.246753</td>\n",
       "      <td>NaN</td>\n",
       "      <td>2.210526</td>\n",
       "      <td>5.99</td>\n",
       "      <td>1.603774</td>\n",
       "      <td>4.240000</td>\n",
       "    </tr>\n",
       "    <tr>\n",
       "      <th>SLM_PPA</th>\n",
       "      <td>NaN</td>\n",
       "      <td>NaN</td>\n",
       "      <td>NaN</td>\n",
       "      <td>NaN</td>\n",
       "      <td>NaN</td>\n",
       "      <td>NaN</td>\n",
       "      <td>NaN</td>\n",
       "      <td>NaN</td>\n",
       "      <td>NaN</td>\n",
       "      <td>NaN</td>\n",
       "      <td>NaN</td>\n",
       "      <td>NaN</td>\n",
       "      <td>NaN</td>\n",
       "    </tr>\n",
       "    <tr>\n",
       "      <th>SR_SCA</th>\n",
       "      <td>1.000000</td>\n",
       "      <td>1.636364</td>\n",
       "      <td>1.090909</td>\n",
       "      <td>1.000000</td>\n",
       "      <td>1.142857</td>\n",
       "      <td>1.258427</td>\n",
       "      <td>NaN</td>\n",
       "      <td>1.304348</td>\n",
       "      <td>NaN</td>\n",
       "      <td>4.200000</td>\n",
       "      <td>5.25</td>\n",
       "      <td>1.111111</td>\n",
       "      <td>1.436782</td>\n",
       "    </tr>\n",
       "    <tr>\n",
       "      <th>SP_PC</th>\n",
       "      <td>4.030000</td>\n",
       "      <td>6.330000</td>\n",
       "      <td>3.770000</td>\n",
       "      <td>2.580000</td>\n",
       "      <td>3.020000</td>\n",
       "      <td>3.660000</td>\n",
       "      <td>NaN</td>\n",
       "      <td>3.350000</td>\n",
       "      <td>NaN</td>\n",
       "      <td>2.610000</td>\n",
       "      <td>1.28</td>\n",
       "      <td>2.810000</td>\n",
       "      <td>5.250000</td>\n",
       "    </tr>\n",
       "    <tr>\n",
       "      <th>SO_OLM</th>\n",
       "      <td>1.000000</td>\n",
       "      <td>1.000000</td>\n",
       "      <td>3.466667</td>\n",
       "      <td>NaN</td>\n",
       "      <td>2.973684</td>\n",
       "      <td>1.333333</td>\n",
       "      <td>NaN</td>\n",
       "      <td>1.000000</td>\n",
       "      <td>NaN</td>\n",
       "      <td>1.000000</td>\n",
       "      <td>9.31</td>\n",
       "      <td>1.000000</td>\n",
       "      <td>3.540000</td>\n",
       "    </tr>\n",
       "    <tr>\n",
       "      <th>SP_PVBC</th>\n",
       "      <td>1.640000</td>\n",
       "      <td>1.375000</td>\n",
       "      <td>1.260000</td>\n",
       "      <td>1.062500</td>\n",
       "      <td>1.200000</td>\n",
       "      <td>1.900000</td>\n",
       "      <td>NaN</td>\n",
       "      <td>2.870000</td>\n",
       "      <td>NaN</td>\n",
       "      <td>1.088889</td>\n",
       "      <td>10.64</td>\n",
       "      <td>1.326087</td>\n",
       "      <td>2.370000</td>\n",
       "    </tr>\n",
       "  </tbody>\n",
       "</table>\n",
       "</div>"
      ],
      "text/plain": [
       "            SO_Tri     SO_BS     SP_AA     SO_BP  SP_CCKBC    SP_Ivy  PV  \\\n",
       "SO_Tri    3.050000  3.000000  2.000000  2.000000  1.348485  2.940000 NaN   \n",
       "SO_BS     1.333333       NaN  1.545455  1.500000  1.541667  2.486111 NaN   \n",
       "SP_AA          NaN       NaN       NaN       NaN       NaN       NaN NaN   \n",
       "SO_BP          NaN       NaN       NaN       NaN       NaN       NaN NaN   \n",
       "SP_CCKBC  3.073171  1.750000  1.712644  2.666667  1.400000  3.210000 NaN   \n",
       "SP_Ivy    3.470000  1.368421  3.140000  1.275000  2.670000  4.700000 NaN   \n",
       "SP_BS     2.655172  2.153846  2.870968  2.222222  1.800000  3.880000 NaN   \n",
       "SLM_PPA        NaN       NaN       NaN       NaN       NaN       NaN NaN   \n",
       "SR_SCA    1.000000  1.636364  1.090909  1.000000  1.142857  1.258427 NaN   \n",
       "SP_PC     4.030000  6.330000  3.770000  2.580000  3.020000  3.660000 NaN   \n",
       "SO_OLM    1.000000  1.000000  3.466667       NaN  2.973684  1.333333 NaN   \n",
       "SP_PVBC   1.640000  1.375000  1.260000  1.062500  1.200000  1.900000 NaN   \n",
       "\n",
       "             SP_BS  SLM_PPA    SR_SCA  SP_PC    SO_OLM   SP_PVBC  \n",
       "SO_Tri    3.173913      NaN  1.470588   6.83  3.000000  3.510000  \n",
       "SO_BS     2.312500      NaN  1.833333   6.50  1.600000  3.204545  \n",
       "SP_AA          NaN      NaN       NaN   7.24       NaN       NaN  \n",
       "SO_BP          NaN      NaN       NaN    NaN       NaN       NaN  \n",
       "SP_CCKBC  4.780000      NaN  1.285714   8.64  1.272727  4.160000  \n",
       "SP_Ivy    5.830000      1.0  2.833333  14.37  1.246154  6.130000  \n",
       "SP_BS     4.246753      NaN  2.210526   5.99  1.603774  4.240000  \n",
       "SLM_PPA        NaN      NaN       NaN    NaN       NaN       NaN  \n",
       "SR_SCA    1.304348      NaN  4.200000   5.25  1.111111  1.436782  \n",
       "SP_PC     3.350000      NaN  2.610000   1.28  2.810000  5.250000  \n",
       "SO_OLM    1.000000      NaN  1.000000   9.31  1.000000  3.540000  \n",
       "SP_PVBC   2.870000      NaN  1.088889  10.64  1.326087  2.370000  "
      ]
     },
     "execution_count": 7,
     "metadata": {},
     "output_type": "execute_result"
    }
   ],
   "source": [
    "model_mean"
   ]
  },
  {
   "cell_type": "markdown",
   "metadata": {},
   "source": [
    "Plot the result using an heatmap.\n",
    "\n",
    "Note that when you have a white cell, it means that the two cell types are not connected (at least in the sample tested)."
   ]
  },
  {
   "cell_type": "code",
   "execution_count": 9,
   "metadata": {},
   "outputs": [
    {
     "name": "stderr",
     "output_type": "stream",
     "text": [
      "/home/tdelemon/.virtualenvs/mooc/lib/python3.6/site-packages/ipykernel_launcher.py:11: UserWarning: Matplotlib is currently using module://ipykernel.pylab.backend_inline, which is a non-GUI backend, so cannot show the figure.\n",
      "  # This is added back by InteractiveShellApp.init_path()\n"
     ]
    },
    {
     "data": {
      "image/png": "[encoded data removed]",
      "text/plain": [
       "<Figure size 432x288 with 2 Axes>"
      ]
     },
     "metadata": {
      "needs_background": "light"
     },
     "output_type": "display_data"
    }
   ],
   "source": [
    "ax = seaborn.heatmap(model_mean)\n",
    "\n",
    "fig = plt.gcf()\n",
    "fig.suptitle('Number of synapses per connection', )\n",
    "\n",
    "ax.set_xlabel('presynaptic mtype')\n",
    "ax.set_ylabel('postsynaptic mtype')\n",
    "\n",
    "ax.collections[0].colorbar.set_label(\"# synapses\")\n",
    "\n",
    "fig.show()"
   ]
  },
  {
   "cell_type": "markdown",
   "metadata": {},
   "source": [
    "After having analyzing the circuit, you can compare the model with experimental data extracted from literature.\n",
    "\n",
    "The next cell loads the experimental data and puts it in a pandas dataframe."
   ]
  },
  {
   "cell_type": "code",
   "execution_count": null,
   "metadata": {},
   "outputs": [],
   "source": [
    "bio_path = '/home/data-bbp/20191017/circuit/bioname/nsyn_per_connection_20190131.tsv'"
   ]
  },
  {
   "cell_type": "code",
   "execution_count": null,
   "metadata": {},
   "outputs": [],
   "source": [
    "df = pd.read_csv(bio_path, skiprows=1, names=['pre', 'post', 'bio_mean', 'bio_std'], usecols=[0, 1, 2, 3], delim_whitespace=True)\n",
    "df.head()"
   ]
  },
  {
   "cell_type": "markdown",
   "metadata": {},
   "source": [
    "As you can see, there are only a limited number of pathways.\n",
    "\n",
    "Extract from the result matrices only the pathways for which you have experimental data."
   ]
  },
  {
   "cell_type": "code",
   "execution_count": null,
   "metadata": {},
   "outputs": [],
   "source": [
    "df['mod_mean'] = np.NAN\n",
    "df['mod_std'] = np.NAN"
   ]
  },
  {
   "cell_type": "code",
   "execution_count": null,
   "metadata": {},
   "outputs": [],
   "source": [
    "for idx in df.index:\n",
    "    pre = df.loc[idx, 'pre']\n",
    "    post = df.loc[idx, 'post']\n",
    "    df.loc[idx, 'mod_mean'] = model_mean[post][pre]\n",
    "    df.loc[idx, 'mod_std'] = model_std[post][pre]"
   ]
  },
  {
   "cell_type": "markdown",
   "metadata": {},
   "source": [
    "Now we plot the results. The more points are lying on the diagonal, the more the model is close to experimental values."
   ]
  },
  {
   "cell_type": "code",
   "execution_count": null,
   "metadata": {},
   "outputs": [],
   "source": [
    "plt.clf\n",
    "x = df['mod_mean'].values\n",
    "y = df['bio_mean'].values\n",
    "l = np.linspace(0, max(x.max(), y.max()), 50)\n",
    "fig, ax = plt.subplots()\n",
    "fig.suptitle('synapses per connection')\n",
    "ax.plot(x, y, 'o')\n",
    "ax.errorbar(x, y, xerr=df['mod_std'].values, yerr=df['bio_std'].values, fmt='o', ecolor='g', capthick=2)\n",
    "ax.plot(l, l, 'k--')\n",
    "ax.set_xlabel('Model (#)')\n",
    "ax.set_ylabel('Experiment (#)')\n",
    "\n",
    "fig.show()"
   ]
  },
  {
   "cell_type": "markdown",
   "metadata": {},
   "source": [
    "### Exercise #1\n",
    "Calculate the average number of synapses per connection in t he four classes of connections (EE, EI, IE, II). Put the answer in a list called ans_1. Respect the order (EE, EI, IE, II).\n",
    "\n",
    "### Exercise #2\n",
    "Calculate the distribution of number of synapses from SP_PVBC to SP_PC. Put the answer in a list named ans_2 with mean and std"
   ]
  },
  {
   "cell_type": "code",
   "execution_count": null,
   "metadata": {},
   "outputs": [],
   "source": [
    "# Work here"
   ]
  },
  {
   "cell_type": "code",
   "execution_count": 1,
   "metadata": {},
   "outputs": [
    {
     "ename": "SyntaxError",
     "evalue": "invalid syntax (<ipython-input-1-c8be7481359f>, line 3)",
     "output_type": "error",
     "traceback": [
      "\u001b[0;36m  File \u001b[0;32m\"<ipython-input-1-c8be7481359f>\"\u001b[0;36m, line \u001b[0;32m3\u001b[0m\n\u001b[0;31m    print json.dumps(dict([(\"ans_1\", ans_1),\u001b[0m\n\u001b[0m             ^\u001b[0m\n\u001b[0;31mSyntaxError\u001b[0m\u001b[0;31m:\u001b[0m invalid syntax\n"
     ]
    }
   ],
   "source": [
    "# This is to generate the answers to paste in the submission box below.\n",
    "# Run this and copy-paste the output into the box below\n",
    "print json.dumps(dict([(\"ans_1\", ans_1),\n",
    "                       (\"ans_2\", ans_2)]))"
   ]
  },
  {
   "cell_type": "code",
   "execution_count": null,
   "metadata": {},
   "outputs": [],
   "source": [
    "!pip -q install -i https://bbpteam.epfl.ch/repository/devpi/simple/ single-cell-mooc-client==0.0.5 \n",
    "import single_cell_mooc_client as sc_mc\n",
    "s = sc_mc.Submission(hideToken=True)"
   ]
  },
  {
   "cell_type": "code",
   "execution_count": null,
   "metadata": {},
   "outputs": [],
   "source": [
    "s.show_submission(ROLLBACK, TOKEN)"
   ]
  }
 ],
 "metadata": {
  "kernelspec": {
   "display_name": "Python 3",
   "language": "python",
   "name": "python3"
  },
  "language_info": {
   "codemirror_mode": {
    "name": "ipython",
    "version": 3
   },
   "file_extension": ".py",
   "mimetype": "text/x-python",
   "name": "python",
   "nbconvert_exporter": "python",
   "pygments_lexer": "ipython3",
   "version": "3.6.8"
  }
 },
 "nbformat": 4,
 "nbformat_minor": 4
}
