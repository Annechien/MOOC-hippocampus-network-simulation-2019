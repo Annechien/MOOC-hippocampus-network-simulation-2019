{
 "cells": [
  {
   "cell_type": "markdown",
   "metadata": {},
   "source": [
    "## Bouton density"
   ]
  },
  {
   "cell_type": "markdown",
   "metadata": {},
   "source": [
    "First, some packages needs to be imported."
   ]
  },
  {
   "cell_type": "code",
   "execution_count": 20,
   "metadata": {},
   "outputs": [],
   "source": [
    "import pandas as pd\n",
    "import numpy as np\n",
    "from scipy import stats\n",
    "import matplotlib.pyplot as plt\n",
    "import seaborn\n",
    "import json\n",
    "from pathlib import Path\n",
    "\n",
    "# package to work with the circuit\n",
    "from bluepysnap import Circuit\n",
    "from bluepysnap.bbp import Cell\n",
    "import neurom as nm"
   ]
  },
  {
   "cell_type": "markdown",
   "metadata": {},
   "source": [
    "Reading and preparing the data"
   ]
  },
  {
   "cell_type": "code",
   "execution_count": 21,
   "metadata": {},
   "outputs": [],
   "source": [
    "circuit_path = '/home/tdelemon/1.Workdir/tests/mooc-106/circuit/circuit_config.json'\n",
    "circuit = Circuit(circuit_path)\n",
    "cells = circuit.nodes[\"hippocampus_neurons\"]\n",
    "conn = circuit.edges[\"hippocampus_neurons__hippocampus_neurons__chemical\"]"
   ]
  },
  {
   "cell_type": "code",
   "execution_count": 22,
   "metadata": {},
   "outputs": [
    {
     "name": "stdout",
     "output_type": "stream",
     "text": [
      "{'components': {'morphologies_dir': '/gpfs/bbp.cscs.ch/project/proj42/entities/morphologies/20180417/08_CloneMorphologies-h5v1', 'mechanisms_dir': '/home/tdelemon/1.Workdir/tests/mooc-106/circuit/mechanisms'}, 'networks': {'nodes': [{'nodes_file': '/home/tdelemon/1.Workdir/tests/mooc-106/circuit/nodes.sonata', 'node_types_file': None, 'node_sets_file': '/home/tdelemon/1.Workdir/tests/mooc-106/circuit/node_sets.json'}], 'edges': [{'edges_file': '/home/tdelemon/1.Workdir/tests/mooc-106/circuit/edges.sonata', 'edge_types_file': None}]}}\n"
     ]
    }
   ],
   "source": [
    "print(circuit._config)"
   ]
  },
  {
   "cell_type": "code",
   "execution_count": 23,
   "metadata": {},
   "outputs": [],
   "source": [
    "# !ls /home/data-bbp/20191017/entities/morphologies/20180417/ascii/"
   ]
  },
  {
   "cell_type": "code",
   "execution_count": 24,
   "metadata": {},
   "outputs": [],
   "source": [
    "sample = 5000\n",
    "mtypes = cells.property_values(Cell.MTYPE)"
   ]
  },
  {
   "cell_type": "code",
   "execution_count": 25,
   "metadata": {},
   "outputs": [],
   "source": [
    "df = pd.DataFrame(index=mtypes, columns=['mean', 'std'])"
   ]
  },
  {
   "cell_type": "code",
   "execution_count": 26,
   "metadata": {},
   "outputs": [
    {
     "name": "stdout",
     "output_type": "stream",
     "text": [
      "[17196 17198 17201 17205 17211 17222 17238 17246 17253 17257 17301 17305\n",
      " 17339 17358 17384 17386]\n",
      "[16900 16904 16926 16928 16949 16962 16966 16967 16971 16983 16984 16986\n",
      " 16997 16998 17007 17011 17015 17035 17036 17040 17058 17061 17062 17066\n",
      " 17073 17074 17089 17092 17093 17099 17105 17116 17117 17120 17132 17137\n",
      " 17140 17148 17155 17170 17173 17178 17179 17193]\n",
      "[   44    49    59 ... 16876 16877 16895]\n",
      "[17562 17575 17596 17600 17601 17602 17604 17605 17609 17614 17615 17617\n",
      " 17626 17631 17635 17636 17638 17658 17663 17666 17669 17670 17673 17676\n",
      " 17686 17695 17698 17703 17717 17742 17751 17779 17786 17791 17816 17820\n",
      " 17844 17870 17872 17882 17907 17911 17916 17917 17943 17945 17957 17973\n",
      " 17982 17984 17991 17997 18018]\n",
      "[17398 17410 17415 17422 17434 17447]\n",
      "[18152 18153 18154 18161 18162 18176]\n",
      "[18052 18060 18067 18072 18076 18096 18108]\n",
      "[17485 17496 17514 17515 17516 17529 17531 17534 17537 17546]\n",
      "[]\n",
      "[]\n",
      "[18139 18148]\n"
     ]
    },
    {
     "name": "stderr",
     "output_type": "stream",
     "text": [
      "/home/tdelemon/.virtualenvs/mooc/lib/python3.6/site-packages/ipykernel_launcher.py:18: RuntimeWarning: Mean of empty slice.\n",
      "/home/tdelemon/.virtualenvs/mooc/lib/python3.6/site-packages/numpy/core/_methods.py:161: RuntimeWarning: invalid value encountered in double_scalars\n",
      "  ret = ret.dtype.type(ret / rcount)\n",
      "/home/tdelemon/.virtualenvs/mooc/lib/python3.6/site-packages/numpy/core/_methods.py:217: RuntimeWarning: Degrees of freedom <= 0 for slice\n",
      "  keepdims=keepdims)\n",
      "/home/tdelemon/.virtualenvs/mooc/lib/python3.6/site-packages/numpy/core/_methods.py:186: RuntimeWarning: invalid value encountered in true_divide\n",
      "  arrmean, rcount, out=arrmean, casting='unsafe', subok=False)\n",
      "/home/tdelemon/.virtualenvs/mooc/lib/python3.6/site-packages/numpy/core/_methods.py:209: RuntimeWarning: invalid value encountered in double_scalars\n",
      "  ret = ret.dtype.type(ret / rcount)\n"
     ]
    },
    {
     "name": "stdout",
     "output_type": "stream",
     "text": [
      "[21 24 25]\n"
     ]
    },
    {
     "data": {
      "text/html": [
       "<div>\n",
       "<style scoped>\n",
       "    .dataframe tbody tr th:only-of-type {\n",
       "        vertical-align: middle;\n",
       "    }\n",
       "\n",
       "    .dataframe tbody tr th {\n",
       "        vertical-align: top;\n",
       "    }\n",
       "\n",
       "    .dataframe thead th {\n",
       "        text-align: right;\n",
       "    }\n",
       "</style>\n",
       "<table border=\"1\" class=\"dataframe\">\n",
       "  <thead>\n",
       "    <tr style=\"text-align: right;\">\n",
       "      <th></th>\n",
       "      <th>mean</th>\n",
       "      <th>std</th>\n",
       "    </tr>\n",
       "  </thead>\n",
       "  <tbody>\n",
       "    <tr>\n",
       "      <th>SP_CCKBC</th>\n",
       "      <td>0.277248</td>\n",
       "      <td>0.0235034</td>\n",
       "    </tr>\n",
       "    <tr>\n",
       "      <th>SP_PVBC</th>\n",
       "      <td>0.133202</td>\n",
       "      <td>0.014961</td>\n",
       "    </tr>\n",
       "    <tr>\n",
       "      <th>SP_PC</th>\n",
       "      <td>0.075241</td>\n",
       "      <td>0.03759</td>\n",
       "    </tr>\n",
       "    <tr>\n",
       "      <th>SP_Ivy</th>\n",
       "      <td>0.351666</td>\n",
       "      <td>0.0258634</td>\n",
       "    </tr>\n",
       "    <tr>\n",
       "      <th>SP_BS</th>\n",
       "      <td>0.166835</td>\n",
       "      <td>0.00500098</td>\n",
       "    </tr>\n",
       "  </tbody>\n",
       "</table>\n",
       "</div>"
      ],
      "text/plain": [
       "              mean         std\n",
       "SP_CCKBC  0.277248   0.0235034\n",
       "SP_PVBC   0.133202    0.014961\n",
       "SP_PC     0.075241     0.03759\n",
       "SP_Ivy    0.351666   0.0258634\n",
       "SP_BS     0.166835  0.00500098"
      ]
     },
     "execution_count": 26,
     "metadata": {},
     "output_type": "execute_result"
    }
   ],
   "source": [
    "def sample_bouton_density(circuit, sample, group=None, synapses_per_bouton=1.0):\n",
    "    def _calc_bouton_density(gid, synapses_per_bouton):\n",
    "        synapse_count = len(conn.efferent_edges(gid))\n",
    "        axon_length = nm.get(\n",
    "            'neurite_lengths', cells.morph.get(gid, False), neurite_type=nm.AXON\n",
    "        )[0]\n",
    "        return (1.0 * synapse_count / synapses_per_bouton) / axon_length\n",
    "\n",
    "    gids = cells.ids(group)\n",
    "    print(gids)\n",
    "    if len(gids) > sample:\n",
    "        gids = np.random.choice(gids, size=n, replace=False)\n",
    "    return np.array([_calc_bouton_density(gid, synapses_per_bouton) for gid in gids])\n",
    "\n",
    "\n",
    "for mtype in mtypes:\n",
    "    data = sample_bouton_density(circuit, sample, group={Cell.MTYPE: mtype, Cell.REGION: {'$regex': 'mc2.*'}}, synapses_per_bouton=1.15) \n",
    "    df.loc[mtype]['mean'] = data.mean()\n",
    "    df.loc[mtype]['std'] = data.std()\n",
    "\n",
    "df.head()"
   ]
  },
  {
   "cell_type": "code",
   "execution_count": 28,
   "metadata": {},
   "outputs": [
    {
     "name": "stderr",
     "output_type": "stream",
     "text": [
      "/home/tdelemon/.virtualenvs/mooc/lib/python3.6/site-packages/ipykernel_launcher.py:19: UserWarning: Matplotlib is currently using module://ipykernel.pylab.backend_inline, which is a non-GUI backend, so cannot show the figure.\n"
     ]
    },
    {
     "data": {
      "image/png": "[encoded data removed]",
      "text/plain": [
       "<Figure size 432x288 with 1 Axes>"
      ]
     },
     "metadata": {
      "needs_background": "light"
     },
     "output_type": "display_data"
    }
   ],
   "source": [
    "plt.close('all')\n",
    "\n",
    "fig, ax = plt.subplots()\n",
    "\n",
    "labels = mtypes\n",
    "ind = np.arange(len(labels))\n",
    "width = 0.75\n",
    "\n",
    "s = ax.bar(ind, df['mean'], width, yerr=df.loc[mtype]['std'])\n",
    "\n",
    "ax.set_xlabel('mtype')\n",
    "ax.set_ylabel('density (um^-1)')\n",
    "ax.set_title('Bouton density')\n",
    "ax.set_xticks(ind)\n",
    "ax.set_xticklabels(labels, rotation='vertical')\n",
    "\n",
    "fig.tight_layout()\n",
    "\n",
    "fig.show()"
   ]
  },
  {
   "cell_type": "code",
   "execution_count": 29,
   "metadata": {},
   "outputs": [],
   "source": [
    "# reference biological dataset\n",
    "bio_path = '/home/data-bbp/20191017/circuit/bioname/bouton_density_20190131.tsv'"
   ]
  },
  {
   "cell_type": "code",
   "execution_count": 21,
   "metadata": {},
   "outputs": [
    {
     "data": {
      "text/html": [
       "<div>\n",
       "<style scoped>\n",
       "    .dataframe tbody tr th:only-of-type {\n",
       "        vertical-align: middle;\n",
       "    }\n",
       "\n",
       "    .dataframe tbody tr th {\n",
       "        vertical-align: top;\n",
       "    }\n",
       "\n",
       "    .dataframe thead th {\n",
       "        text-align: right;\n",
       "    }\n",
       "</style>\n",
       "<table border=\"1\" class=\"dataframe\">\n",
       "  <thead>\n",
       "    <tr style=\"text-align: right;\">\n",
       "      <th></th>\n",
       "      <th>mtype</th>\n",
       "      <th>bio_mean</th>\n",
       "      <th>bio_std</th>\n",
       "    </tr>\n",
       "  </thead>\n",
       "  <tbody>\n",
       "    <tr>\n",
       "      <th>0</th>\n",
       "      <td>SO_BS</td>\n",
       "      <td>0.2100</td>\n",
       "      <td>0.0</td>\n",
       "    </tr>\n",
       "    <tr>\n",
       "      <th>1</th>\n",
       "      <td>SO_BP</td>\n",
       "      <td>0.2480</td>\n",
       "      <td>0.0</td>\n",
       "    </tr>\n",
       "    <tr>\n",
       "      <th>2</th>\n",
       "      <td>SP_PC</td>\n",
       "      <td>0.1241</td>\n",
       "      <td>0.0</td>\n",
       "    </tr>\n",
       "    <tr>\n",
       "      <th>3</th>\n",
       "      <td>SO_Tri</td>\n",
       "      <td>0.2820</td>\n",
       "      <td>0.0</td>\n",
       "    </tr>\n",
       "    <tr>\n",
       "      <th>4</th>\n",
       "      <td>SP_PVBC</td>\n",
       "      <td>0.2260</td>\n",
       "      <td>0.0</td>\n",
       "    </tr>\n",
       "  </tbody>\n",
       "</table>\n",
       "</div>"
      ],
      "text/plain": [
       "     mtype  bio_mean  bio_std\n",
       "0    SO_BS    0.2100      0.0\n",
       "1    SO_BP    0.2480      0.0\n",
       "2    SP_PC    0.1241      0.0\n",
       "3   SO_Tri    0.2820      0.0\n",
       "4  SP_PVBC    0.2260      0.0"
      ]
     },
     "execution_count": 21,
     "metadata": {},
     "output_type": "execute_result"
    }
   ],
   "source": [
    "data = pd.read_csv(bio_path, names=['mtype', 'bio_mean', 'bio_std'], skiprows=2, usecols=[0,1,2], delim_whitespace=True)\n",
    "data.head()"
   ]
  },
  {
   "cell_type": "code",
   "execution_count": 22,
   "metadata": {},
   "outputs": [
    {
     "data": {
      "text/html": [
       "<div>\n",
       "<style scoped>\n",
       "    .dataframe tbody tr th:only-of-type {\n",
       "        vertical-align: middle;\n",
       "    }\n",
       "\n",
       "    .dataframe tbody tr th {\n",
       "        vertical-align: top;\n",
       "    }\n",
       "\n",
       "    .dataframe thead th {\n",
       "        text-align: right;\n",
       "    }\n",
       "</style>\n",
       "<table border=\"1\" class=\"dataframe\">\n",
       "  <thead>\n",
       "    <tr style=\"text-align: right;\">\n",
       "      <th></th>\n",
       "      <th>mtype</th>\n",
       "      <th>bio_mean</th>\n",
       "      <th>bio_std</th>\n",
       "      <th>mod_mean</th>\n",
       "      <th>mod_std</th>\n",
       "    </tr>\n",
       "  </thead>\n",
       "  <tbody>\n",
       "    <tr>\n",
       "      <th>0</th>\n",
       "      <td>SO_BS</td>\n",
       "      <td>0.2100</td>\n",
       "      <td>0.0</td>\n",
       "      <td>NaN</td>\n",
       "      <td>NaN</td>\n",
       "    </tr>\n",
       "    <tr>\n",
       "      <th>1</th>\n",
       "      <td>SO_BP</td>\n",
       "      <td>0.2480</td>\n",
       "      <td>0.0</td>\n",
       "      <td>NaN</td>\n",
       "      <td>NaN</td>\n",
       "    </tr>\n",
       "    <tr>\n",
       "      <th>2</th>\n",
       "      <td>SP_PC</td>\n",
       "      <td>0.1241</td>\n",
       "      <td>0.0</td>\n",
       "      <td>NaN</td>\n",
       "      <td>NaN</td>\n",
       "    </tr>\n",
       "    <tr>\n",
       "      <th>3</th>\n",
       "      <td>SO_Tri</td>\n",
       "      <td>0.2820</td>\n",
       "      <td>0.0</td>\n",
       "      <td>NaN</td>\n",
       "      <td>NaN</td>\n",
       "    </tr>\n",
       "    <tr>\n",
       "      <th>4</th>\n",
       "      <td>SP_PVBC</td>\n",
       "      <td>0.2260</td>\n",
       "      <td>0.0</td>\n",
       "      <td>NaN</td>\n",
       "      <td>NaN</td>\n",
       "    </tr>\n",
       "  </tbody>\n",
       "</table>\n",
       "</div>"
      ],
      "text/plain": [
       "     mtype  bio_mean  bio_std mod_mean mod_std\n",
       "0    SO_BS    0.2100      0.0      NaN     NaN\n",
       "1    SO_BP    0.2480      0.0      NaN     NaN\n",
       "2    SP_PC    0.1241      0.0      NaN     NaN\n",
       "3   SO_Tri    0.2820      0.0      NaN     NaN\n",
       "4  SP_PVBC    0.2260      0.0      NaN     NaN"
      ]
     },
     "execution_count": 22,
     "metadata": {},
     "output_type": "execute_result"
    }
   ],
   "source": [
    "selected = data['mtype'].values\n",
    "data['mod_mean'] = df.loc[selected]['mean'].values\n",
    "data['mod_std'] = df.loc[selected]['std'].values\n",
    "data.head()"
   ]
  },
  {
   "cell_type": "code",
   "execution_count": 23,
   "metadata": {},
   "outputs": [
    {
     "name": "stderr",
     "output_type": "stream",
     "text": [
      "/usr/local/lib/python3.6/dist-packages/numpy/core/_methods.py:30: RuntimeWarning: invalid value encountered in reduce\n",
      "  return umr_maximum(a, axis, None, out, keepdims, initial, where)\n"
     ]
    },
    {
     "data": {
      "image/png": "[encoded data removed]",
      "text/plain": [
       "<Figure size 432x288 with 1 Axes>"
      ]
     },
     "metadata": {
      "needs_background": "light"
     },
     "output_type": "display_data"
    }
   ],
   "source": [
    "plt.close('all')\n",
    "\n",
    "x = data['mod_mean'].values\n",
    "y = data['bio_mean'].values\n",
    "# remove nan value from the array\n",
    "# l = np.linspace(0, max(x[~np.isnan(x)].max(), y.max()), 50)\n",
    "l = np.linspace(0, max(x.max(), y.max()), 50)\n",
    "fig, ax = plt.subplots()\n",
    "fig.suptitle('Bouton density')\n",
    "ax.plot(x, y, 'o')\n",
    "ax.errorbar(x, y, xerr=data['mod_std'].values, yerr=data['bio_std'].values, fmt='o', ecolor='g', capthick=2)\n",
    "ax.plot(l, l, 'k--')\n",
    "ax.set_xlabel('Model (um^-1)')\n",
    "ax.set_ylabel('Experiment (um^-1)')\n",
    "\n",
    "fig.show()"
   ]
  },
  {
   "cell_type": "code",
   "execution_count": null,
   "metadata": {
    "collapsed": true,
    "jupyter": {
     "outputs_hidden": true
    }
   },
   "outputs": [],
   "source": [
    "# Work here"
   ]
  },
  {
   "cell_type": "markdown",
   "metadata": {},
   "source": [
    "### Exercise #1\n",
    "Calculate the average bouton density in an interneuron and a neuron in general. Store the answer in ans_1a and ans_1b.\n",
    "\n",
    "__Hint__: to query gids of interneurons use Cell.SYNAPSE_CLASS. When you query all the interneurons, you do not need any filters.\n",
    "\n",
    "### Exercise #2\n",
    "Calculate bouton density not in the central column. Is it lower, bigger or the same of the bouton density calculated in the central column? Why?"
   ]
  },
  {
   "cell_type": "code",
   "execution_count": null,
   "metadata": {},
   "outputs": [],
   "source": [
    "# This is to generate the answers to paste in the submission box below.\n",
    "# Run this and copy-paste the output into the box below\n",
    "print json.dumps(dict([(\"ans_1a\", ans_1a),\n",
    "                       (\"ans_1b\", ans_1b),\n",
    "                       (\"ans_2a\", ans_2a),\n",
    "                       (\"ans_2b\", ans_2b)]))"
   ]
  },
  {
   "cell_type": "code",
   "execution_count": null,
   "metadata": {},
   "outputs": [],
   "source": [
    "!pip -q install -i https://bbpteam.epfl.ch/repository/devpi/simple/ single-cell-mooc-client==0.0.5 \n",
    "import single_cell_mooc_client as sc_mc\n",
    "s = sc_mc.Submission(hideToken=True)"
   ]
  },
  {
   "cell_type": "code",
   "execution_count": null,
   "metadata": {},
   "outputs": [],
   "source": [
    "s.show_submission(ROLLBACK, TOKEN)"
   ]
  }
 ],
 "metadata": {
  "kernelspec": {
   "display_name": "Python 3",
   "language": "python",
   "name": "python3"
  },
  "language_info": {
   "codemirror_mode": {
    "name": "ipython",
    "version": 3
   },
   "file_extension": ".py",
   "mimetype": "text/x-python",
   "name": "python",
   "nbconvert_exporter": "python",
   "pygments_lexer": "ipython3",
   "version": "3.6.8"
  }
 },
 "nbformat": 4,
 "nbformat_minor": 4
}
