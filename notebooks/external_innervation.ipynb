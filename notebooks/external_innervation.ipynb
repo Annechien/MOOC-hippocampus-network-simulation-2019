{
 "cells": [
  {
   "cell_type": "markdown",
   "metadata": {},
   "source": [
    "## Validate CA3 projections in CA1 microcircuit"
   ]
  },
  {
   "cell_type": "code",
   "execution_count": 1,
   "metadata": {},
   "outputs": [],
   "source": [
    "import matplotlib.pyplot as plt\n",
    "\n",
    "# package to work with the circuit\n",
    "from bluepysnap import Circuit"
   ]
  },
  {
   "cell_type": "code",
   "execution_count": 2,
   "metadata": {},
   "outputs": [],
   "source": [
    "circuit_path = '/home/data-bbp/20191017/circuit/sonata/circuit_config.json'\n",
    "\n",
    "circuit = Circuit(circuit_path, node_population='All') # circuit object"
   ]
  },
  {
   "cell_type": "code",
   "execution_count": 3,
   "metadata": {},
   "outputs": [
    {
     "ename": "AttributeError",
     "evalue": "'Circuit' object has no attribute 'projection'",
     "output_type": "error",
     "traceback": [
      "\u001b[0;31m---------------------------------------------------------------------------\u001b[0m",
      "\u001b[0;31mAttributeError\u001b[0m                            Traceback (most recent call last)",
      "\u001b[0;32m<ipython-input-3-e973b4efe130>\u001b[0m in \u001b[0;36m<module>\u001b[0;34m\u001b[0m\n\u001b[0;32m----> 1\u001b[0;31m \u001b[0mproj\u001b[0m \u001b[0;34m=\u001b[0m \u001b[0mcircuit\u001b[0m\u001b[0;34m.\u001b[0m\u001b[0mprojection\u001b[0m\u001b[0;34m(\u001b[0m\u001b[0;34m'SC'\u001b[0m\u001b[0;34m)\u001b[0m\u001b[0;34m\u001b[0m\u001b[0;34m\u001b[0m\u001b[0m\n\u001b[0m",
      "\u001b[0;31mAttributeError\u001b[0m: 'Circuit' object has no attribute 'projection'"
     ]
    }
   ],
   "source": [
    "proj = circuit.projection('SC')"
   ]
  },
  {
   "cell_type": "code",
   "execution_count": null,
   "metadata": {
    "collapsed": true,
    "jupyter": {
     "outputs_hidden": true
    }
   },
   "outputs": [],
   "source": []
  },
  {
   "cell_type": "markdown",
   "metadata": {},
   "source": [
    "### Number of synapse per connection"
   ]
  },
  {
   "cell_type": "code",
   "execution_count": null,
   "metadata": {
    "collapsed": true,
    "jupyter": {
     "outputs_hidden": true
    }
   },
   "outputs": [],
   "source": [
    "pre = circuit.cells.ids('CA3_PC')\n",
    "post = circuit.cells.ids('Mosaic')\n",
    "data = np.array([p[2] for p in proj.iter_connections(pre, post, return_synapse_count=True)])"
   ]
  },
  {
   "cell_type": "code",
   "execution_count": null,
   "metadata": {
    "collapsed": true,
    "jupyter": {
     "outputs_hidden": true
    }
   },
   "outputs": [],
   "source": [
    "# plot\n",
    "fig, ax = plt.subplots()\n",
    "\n",
    "data = np.array(data)\n",
    "nsyns = np.unique(data)\n",
    "\n",
    "ax.hist(data, bins=np.append(nsyns, nsyns[-1]+1)-0.5)\n",
    "# ax.set_xticks(nsyns)\n",
    "\n",
    "_, y1 = ax.get_ylim()\n",
    "mean = data.mean()\n",
    "std = data.std()\n",
    "ax.errorbar(mean, y1*0.9, xerr=std, color='k', fmt='o')\n",
    "\n",
    "ax.ticklabel_format(axis='y', style='scientific', scilimits=(0,0))\n",
    "ax.set_title('Number of SC synapses per connection', fontsize=20, y=1.08)\n",
    "ax.set_xlabel('Number of synapses')\n",
    "ax.set_ylabel('Number of connections')\n",
    "\n",
    "ax.spines['top'].set_visible(False)\n",
    "ax.spines['right'].set_visible(False)\n",
    "\n",
    "fig.show()"
   ]
  },
  {
   "cell_type": "markdown",
   "metadata": {},
   "source": [
    "### Distribution across layers"
   ]
  },
  {
   "cell_type": "code",
   "execution_count": 30,
   "metadata": {
    "collapsed": true,
    "jupyter": {
     "outputs_hidden": true
    }
   },
   "outputs": [],
   "source": [
    "id_layer_map = {}\n",
    "for column in hierarchy[\"children\"]:\n",
    "    for region in column[\"children\"]:\n",
    "        id_ = region[\"id\"]\n",
    "        layer = region[\"acronym\"].split(\";\")[-1]\n",
    "        id_layer_map[id_] = layer\n",
    "id_layer_map[0] = 'out'"
   ]
  },
  {
   "cell_type": "code",
   "execution_count": 39,
   "metadata": {
    "collapsed": true,
    "jupyter": {
     "outputs_hidden": true
    }
   },
   "outputs": [],
   "source": [
    "spacing = br_metadata[\"space directions\"].diagonal()\n",
    "offset = br_metadata[\"space origin\"]\n",
    "positions = syns.loc[:, ['x', 'y', 'z']].to_numpy()\n",
    "indices = np.array((positions - offset) / spacing, dtype=int)\n",
    "labels = br_data[tuple(indices.T)]\n",
    "def _apply_mapping(x):\n",
    "    return id_layer_map[x]\n",
    "\n",
    "apply_mapping = np.vectorize(_apply_mapping)\n",
    "layers = apply_mapping(labels)\n",
    "syns['layer'] = layers"
   ]
  },
  {
   "cell_type": "code",
   "execution_count": 32,
   "metadata": {},
   "outputs": [
    {
     "data": {
      "text/html": [
       "<div>\n",
       "<style scoped>\n",
       "    .dataframe tbody tr th:only-of-type {\n",
       "        vertical-align: middle;\n",
       "    }\n",
       "\n",
       "    .dataframe tbody tr th {\n",
       "        vertical-align: top;\n",
       "    }\n",
       "\n",
       "    .dataframe thead th {\n",
       "        text-align: right;\n",
       "    }\n",
       "</style>\n",
       "<table border=\"1\" class=\"dataframe\">\n",
       "  <thead>\n",
       "    <tr style=\"text-align: right;\">\n",
       "      <th></th>\n",
       "      <th>offset</th>\n",
       "      <th>x</th>\n",
       "      <th>y</th>\n",
       "      <th>z</th>\n",
       "      <th>section_id</th>\n",
       "      <th>segment_id</th>\n",
       "      <th>tgid</th>\n",
       "      <th>sgid_path_distance</th>\n",
       "      <th>sgid</th>\n",
       "      <th>layer</th>\n",
       "    </tr>\n",
       "  </thead>\n",
       "  <tbody>\n",
       "    <tr>\n",
       "      <th>0</th>\n",
       "      <td>0.619206</td>\n",
       "      <td>866.949678</td>\n",
       "      <td>420.800488</td>\n",
       "      <td>961.502316</td>\n",
       "      <td>158</td>\n",
       "      <td>23</td>\n",
       "      <td>1966</td>\n",
       "      <td>1.813566</td>\n",
       "      <td>0</td>\n",
       "      <td>SR</td>\n",
       "    </tr>\n",
       "    <tr>\n",
       "      <th>1</th>\n",
       "      <td>5.004660</td>\n",
       "      <td>821.907294</td>\n",
       "      <td>188.902518</td>\n",
       "      <td>428.473130</td>\n",
       "      <td>109</td>\n",
       "      <td>12</td>\n",
       "      <td>9311</td>\n",
       "      <td>10.821948</td>\n",
       "      <td>0</td>\n",
       "      <td>SP</td>\n",
       "    </tr>\n",
       "    <tr>\n",
       "      <th>2</th>\n",
       "      <td>0.102776</td>\n",
       "      <td>541.799133</td>\n",
       "      <td>405.830667</td>\n",
       "      <td>507.966888</td>\n",
       "      <td>160</td>\n",
       "      <td>53</td>\n",
       "      <td>3264</td>\n",
       "      <td>0.723073</td>\n",
       "      <td>0</td>\n",
       "      <td>SR</td>\n",
       "    </tr>\n",
       "    <tr>\n",
       "      <th>3</th>\n",
       "      <td>0.307752</td>\n",
       "      <td>207.664854</td>\n",
       "      <td>326.225937</td>\n",
       "      <td>975.833187</td>\n",
       "      <td>156</td>\n",
       "      <td>29</td>\n",
       "      <td>16251</td>\n",
       "      <td>1.282181</td>\n",
       "      <td>0</td>\n",
       "      <td>SR</td>\n",
       "    </tr>\n",
       "    <tr>\n",
       "      <th>4</th>\n",
       "      <td>1.115617</td>\n",
       "      <td>380.937872</td>\n",
       "      <td>330.437651</td>\n",
       "      <td>316.913136</td>\n",
       "      <td>131</td>\n",
       "      <td>0</td>\n",
       "      <td>9429</td>\n",
       "      <td>1.681385</td>\n",
       "      <td>0</td>\n",
       "      <td>SR</td>\n",
       "    </tr>\n",
       "  </tbody>\n",
       "</table>\n",
       "</div>"
      ],
      "text/plain": [
       "     offset           x           y           z  section_id  segment_id  \\\n",
       "0  0.619206  866.949678  420.800488  961.502316         158          23   \n",
       "1  5.004660  821.907294  188.902518  428.473130         109          12   \n",
       "2  0.102776  541.799133  405.830667  507.966888         160          53   \n",
       "3  0.307752  207.664854  326.225937  975.833187         156          29   \n",
       "4  1.115617  380.937872  330.437651  316.913136         131           0   \n",
       "\n",
       "    tgid  sgid_path_distance  sgid layer  \n",
       "0   1966            1.813566     0    SR  \n",
       "1   9311           10.821948     0    SP  \n",
       "2   3264            0.723073     0    SR  \n",
       "3  16251            1.282181     0    SR  \n",
       "4   9429            1.681385     0    SR  "
      ]
     },
     "execution_count": 32,
     "metadata": {},
     "output_type": "execute_result"
    }
   ],
   "source": [
    "syns.head()"
   ]
  },
  {
   "cell_type": "code",
   "execution_count": 40,
   "metadata": {},
   "outputs": [
    {
     "data": {
      "image/png": "[encoded data removed]",
      "text/plain": [
       "<Figure size 432x288 with 1 Axes>"
      ]
     },
     "metadata": {},
     "output_type": "display_data"
    }
   ],
   "source": [
    "# model distribution\n",
    "layers = ['SO', 'SP', 'SR', 'SLM']\n",
    "mod_y_distr = np.array([np.count_nonzero(syns.layer==layer) for layer in layers], dtype=np.float32)\n",
    "mod_y_distr = mod_y_distr/mod_y_distr.sum()\n",
    "exp_y_distr = [0.2476014415, 0.0705293209, 0.6792951748, 0.0025740628]\n",
    "x = np.arange(4)\n",
    "fig, ax = plt.subplots()\n",
    "ax.bar(x, mod_y_distr, label='cellid='+str(pregid))\n",
    "ax.plot(x,exp_y_distr,color='r', label='expected')\n",
    "plt.xticks(x, layers)\n",
    "fig.suptitle('Distribution of synapses along the radial axis')\n",
    "ax.set_xlabel('layer')\n",
    "ax.set_ylabel('frequency')\n",
    "plt.legend(loc='upper right')\n",
    "timestamp = datetime.now().strftime('%Y%m%dT%H%M%S')\n",
    "# plt.savefig('/home/romani/Desktop/radial_distr_'+timestamp+'.png')\n",
    "plt.show()"
   ]
  },
  {
   "cell_type": "markdown",
   "metadata": {},
   "source": [
    "### Distribution over XZ plane\n",
    "\n",
    "Verify that the synapses are distributed uniformly in the XZ plane"
   ]
  },
  {
   "cell_type": "code",
   "execution_count": 36,
   "metadata": {
    "collapsed": true,
    "jupyter": {
     "outputs_hidden": true
    }
   },
   "outputs": [],
   "source": [
    "!pip install -q feather-format"
   ]
  },
  {
   "cell_type": "code",
   "execution_count": 56,
   "metadata": {},
   "outputs": [
    {
     "data": {
      "text/plain": [
       "[]"
      ]
     },
     "execution_count": 56,
     "metadata": {},
     "output_type": "execute_result"
    },
    {
     "data": {
      "image/png": "[encoded data removed]",
      "text/plain": [
       "<Figure size 720x576 with 2 Axes>"
      ]
     },
     "metadata": {},
     "output_type": "display_data"
    }
   ],
   "source": [
    "# read in synapse xyzs\n",
    "import feather\n",
    "# proj_path = \"/gpfs/bbp.cscs.ch/project/proj42/circuits/O1/20181114/projection/synapses.feather\"\n",
    "syns = feather.read_dataframe(projection_path)  # workaround to read from feather format...\n",
    "xyz = syns[[\"x\", \"y\", \"z\"]]\n",
    "\n",
    "# convert to density matrix\n",
    "import numpy as np\n",
    "def bin_space(x, y, x_min, x_max, y_min, y_max, bin_size):\n",
    "    \"\"\"\"Bins the space for 'density plot'\"\"\"\n",
    "    x_bins = np.arange(x_min, x_max, bin_size)\n",
    "    y_bins = np.arange(y_min, y_max, bin_size)\n",
    "    x_bins = np.append(x_bins, x_max)\n",
    "    y_bins = np.append(y_bins, y_max)\n",
    "    X = np.zeros((len(x_bins)-1, len(y_bins)-1))\n",
    "\n",
    "    for i, (_x_min, _x_max) in enumerate(zip(x_bins[0:-1], x_bins[1:])):\n",
    "        idx_x = np.where((_x_min < x) & (x <= _x_max))[0]\n",
    "        for j, (_y_min, _y_max) in enumerate(zip(y_bins[0:-1], y_bins[1:])):\n",
    "            idx_y = np.where((_y_min < y[idx_x]) & (y[idx_x] <= _y_max))[0]\n",
    "            X[i, j] = len(idx_y)\n",
    "        \n",
    "    X[np.where(X == 0)] = np.nan\n",
    "    return X\n",
    "\n",
    "x_min = -260.0; x_max = 980.0\n",
    "z_min = -20.0; z_max = 1280.0\n",
    "bin_size = 20\n",
    "dens_O1 = bin_space(xyz[\"x\"].values, xyz[\"z\"].values, x_min, x_max, z_min, z_max, bin_size)\n",
    "\n",
    "# plt\n",
    "import matplotlib.pyplot as plt\n",
    "fig = plt.figure(figsize=(10, 8))\n",
    "ax = fig.add_subplot(1, 1, 1)\n",
    "i = ax.imshow(dens_O1, cmap=\"jet\", aspect=\"auto\", interpolation=\"nearest\", origin=\"lower\")\n",
    "fig.colorbar(i, label=\"nr. of synapses/bin\")\n",
    "ax.set_title(\"Distribution of projections (O1)\")\n",
    "ax.set_xlabel(\"X\"); ax.set_ylabel(\"Z\")\n",
    "ax.set_xticks([]); ax.set_yticks([])"
   ]
  },
  {
   "cell_type": "code",
   "execution_count": null,
   "metadata": {
    "collapsed": true,
    "jupyter": {
     "outputs_hidden": true
    }
   },
   "outputs": [],
   "source": []
  }
 ],
 "metadata": {
  "kernelspec": {
   "display_name": "Python 3",
   "language": "python",
   "name": "python3"
  },
  "language_info": {
   "codemirror_mode": {
    "name": "ipython",
    "version": 3
   },
   "file_extension": ".py",
   "mimetype": "text/x-python",
   "name": "python",
   "nbconvert_exporter": "python",
   "pygments_lexer": "ipython3",
   "version": "3.6.8"
  }
 },
 "nbformat": 4,
 "nbformat_minor": 4
}
