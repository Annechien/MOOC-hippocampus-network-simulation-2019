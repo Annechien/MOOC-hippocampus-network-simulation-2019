{
 "cells": [
  {
   "cell_type": "markdown",
   "metadata": {},
   "source": [
    "## Validate CA3 projections in CA1 microcircuit"
   ]
  },
  {
   "cell_type": "code",
   "execution_count": 1,
   "metadata": {},
   "outputs": [],
   "source": [
    "import json\n",
    "from pathlib import Path\n",
    "\n",
    "import nrrd \n",
    "import matplotlib.pyplot as plt\n",
    "# package to work with the circuit\n",
    "from bluepysnap import Circuit"
   ]
  },
  {
   "cell_type": "code",
   "execution_count": 2,
   "metadata": {},
   "outputs": [],
   "source": [
    "circuit_path = '/home/tdelemon/1.Workdir/tests/mooc-106/circuit/circuit_config.json'\n",
    "circuit = Circuit(circuit_path)"
   ]
  },
  {
   "cell_type": "code",
   "execution_count": 3,
   "metadata": {},
   "outputs": [
    {
     "name": "stdout",
     "output_type": "stream",
     "text": [
      "['hippocampus_projections', 'hippocampus_neurons']\n",
      "['hippocampus_neurons__hippocampus_neurons__chemical', 'hippocampus_projections__hippocampus_neurons__chemical']\n"
     ]
    }
   ],
   "source": [
    "print(list(circuit.nodes))\n",
    "print(list(circuit.edges))"
   ]
  },
  {
   "cell_type": "code",
   "execution_count": 4,
   "metadata": {},
   "outputs": [],
   "source": [
    "cells = circuit.nodes[\"hippocampus_neurons\"]\n",
    "conn = circuit.edges[\"hippocampus_neurons__hippocampus_neurons__chemical\"]\n",
    "proj_cells =circuit.nodes[\"hippocampus_projections\"]\n",
    "proj_conn =circuit.edges[\"hippocampus_projections__hippocampus_neurons__chemical\"]"
   ]
  },
  {
   "cell_type": "markdown",
   "metadata": {},
   "source": [
    "### Number of synapse per connection"
   ]
  },
  {
   "cell_type": "code",
   "execution_count": 20,
   "metadata": {
    "jupyter": {
     "outputs_hidden": true
    }
   },
   "outputs": [],
   "source": [
    "pre = proj_cells.ids()\n",
    "post = cells.ids()\n",
    "data = np.array([p[2] for p in proj_conn.iter_connections(pre, post, return_edge_count=True)])"
   ]
  },
  {
   "cell_type": "code",
   "execution_count": 24,
   "metadata": {},
   "outputs": [
    {
     "name": "stdout",
     "output_type": "stream",
     "text": [
      "(array([1, 2, 3, 4, 5, 6, 7], dtype=uint32), array([29617615,  1995541,    98384,     4007,      154,        7,\n",
      "              1]))\n"
     ]
    }
   ],
   "source": [
    "# data is the number of connections between 2 neurons\n",
    "nsyns = np.unique(data, return_counts=True)\n",
    "# nsyns is the number of neuron pairs having exactly n number of shared synapses\n",
    "print(nsyns)"
   ]
  },
  {
   "cell_type": "code",
   "execution_count": 25,
   "metadata": {
    "jupyter": {
     "outputs_hidden": true
    },
    "scrolled": true
   },
   "outputs": [
    {
     "name": "stderr",
     "output_type": "stream",
     "text": [
      "/home/tdelemon/.virtualenvs/mooc/lib/python3.6/site-packages/ipykernel_launcher.py:21: UserWarning: Matplotlib is currently using module://ipykernel.pylab.backend_inline, which is a non-GUI backend, so cannot show the figure.\n"
     ]
    },
    {
     "data": {
      "image/png": "[encoded data removed]",
      "text/plain": [
       "<Figure size 432x288 with 1 Axes>"
      ]
     },
     "metadata": {
      "needs_background": "light"
     },
     "output_type": "display_data"
    }
   ],
   "source": [
    "# plot\n",
    "fig, ax = plt.subplots()\n",
    "\n",
    "\n",
    "ax.hist(nsyns[0], bins=np.append(nsyns[0], nsyns[0][-1]+1)-0.5, weights=nsyns[1])\n",
    "# ax.set_xticks(nsyns)\n",
    "\n",
    "_, y1 = ax.get_ylim()\n",
    "mean = data.mean()\n",
    "std = data.std()\n",
    "ax.errorbar(mean, y1*0.9, xerr=std, color='k', fmt='o')\n",
    "\n",
    "ax.ticklabel_format(axis='y', style='scientific', scilimits=(0,0))\n",
    "ax.set_title('Number of SC synapses per connection', fontsize=20, y=1.08)\n",
    "ax.set_xlabel('Number of synapses')\n",
    "ax.set_ylabel('Number of connections')\n",
    "\n",
    "ax.spines['top'].set_visible(False)\n",
    "ax.spines['right'].set_visible(False)\n",
    "\n",
    "fig.show()"
   ]
  },
  {
   "cell_type": "markdown",
   "metadata": {},
   "source": [
    "### Distribution across layers"
   ]
  },
  {
   "cell_type": "code",
   "execution_count": 26,
   "metadata": {},
   "outputs": [
    {
     "name": "stdout",
     "output_type": "stream",
     "text": [
      "[       0        1        2 ... 33920693 33920694 33920695]\n"
     ]
    }
   ],
   "source": [
    "# To get all edge ids you just need to know the size of the edge population\n",
    "all_edge_ids = np.arange(proj_conn.size)\n",
    "print(all_edge_ids)"
   ]
  },
  {
   "cell_type": "code",
   "execution_count": 27,
   "metadata": {},
   "outputs": [
    {
     "name": "stdout",
     "output_type": "stream",
     "text": [
      "{'syn_type_id', 'n_rrp_vesicles', 'conductance', 'afferent_section_id', 'depression_time', 'afferent_segment_offset', 'afferent_segment_id', 'afferent_center_z', 'delay', 'u_syn', 'afferent_center_x', 'facilitation_time', 'decay_time', 'afferent_center_y'}\n"
     ]
    }
   ],
   "source": [
    "# we can print all the properties from the edge file\n",
    "print(proj_conn.property_names)"
   ]
  },
  {
   "cell_type": "code",
   "execution_count": 28,
   "metadata": {},
   "outputs": [],
   "source": [
    "atlas_directory = '/gpfs/bbp.cscs.ch/project/proj42/entities/dev/atlas/O1-243'\n",
    "br_data, br_metadata = nrrd.read(Path(atlas_directory, \"brain_regions.nrrd\"))\n",
    "\n",
    "# hierarchy contains the region hierarchy: 01 -> [mc0->[mc0;SO, mc0;SP, ...], mc1-> [mc1;SO, mc1;SP, ...], ...]\n",
    "hierarchy = json.load(open(Path(atlas_directory, \"hierarchy.json\")))"
   ]
  },
  {
   "cell_type": "code",
   "execution_count": 29,
   "metadata": {
    "jupyter": {
     "outputs_hidden": true
    }
   },
   "outputs": [],
   "source": [
    "id_layer_map = {}\n",
    "for column in hierarchy[\"children\"]:\n",
    "    for region in column[\"children\"]:\n",
    "        id_ = region[\"id\"]\n",
    "        layer = region[\"acronym\"].split(\";\")[-1]\n",
    "        id_layer_map[id_] = layer\n",
    "id_layer_map[0] = 'out'"
   ]
  },
  {
   "cell_type": "code",
   "execution_count": 30,
   "metadata": {
    "jupyter": {
     "outputs_hidden": true
    }
   },
   "outputs": [],
   "source": [
    "spacing = br_metadata[\"space directions\"].diagonal()\n",
    "offset = br_metadata[\"space origin\"]\n",
    "properties = ['afferent_center_x', 'afferent_center_y', 'afferent_center_z']\n",
    "synapses = proj_conn.properties(all_edge_ids, properties=properties)\n",
    "synapses.rename(columns={\"afferent_center_x\": \"x\", \"afferent_center_y\": \"y\", \"afferent_center_z\": \"z\"}, inplace=True)\n",
    "\n",
    "positions = proj_conn.positions(all_edge_ids, \"afferent\", \"center\").to_numpy()\n",
    "indices = np.array((positions - offset) / spacing, dtype=int)\n",
    "labels = br_data[tuple(indices.T)]\n",
    "def _apply_mapping(x):\n",
    "    return id_layer_map[x]\n",
    "\n",
    "apply_mapping = np.vectorize(_apply_mapping)\n",
    "layers = apply_mapping(labels)\n",
    "synapses['layer'] = layers"
   ]
  },
  {
   "cell_type": "code",
   "execution_count": 12,
   "metadata": {},
   "outputs": [
    {
     "data": {
      "text/html": [
       "<div>\n",
       "<style scoped>\n",
       "    .dataframe tbody tr th:only-of-type {\n",
       "        vertical-align: middle;\n",
       "    }\n",
       "\n",
       "    .dataframe tbody tr th {\n",
       "        vertical-align: top;\n",
       "    }\n",
       "\n",
       "    .dataframe thead th {\n",
       "        text-align: right;\n",
       "    }\n",
       "</style>\n",
       "<table border=\"1\" class=\"dataframe\">\n",
       "  <thead>\n",
       "    <tr style=\"text-align: right;\">\n",
       "      <th></th>\n",
       "      <th>x</th>\n",
       "      <th>y</th>\n",
       "      <th>z</th>\n",
       "      <th>layer</th>\n",
       "    </tr>\n",
       "  </thead>\n",
       "  <tbody>\n",
       "    <tr>\n",
       "      <th>0</th>\n",
       "      <td>401.123138</td>\n",
       "      <td>507.465424</td>\n",
       "      <td>1080.862549</td>\n",
       "      <td>SR</td>\n",
       "    </tr>\n",
       "    <tr>\n",
       "      <th>1</th>\n",
       "      <td>401.029205</td>\n",
       "      <td>507.618988</td>\n",
       "      <td>1080.988281</td>\n",
       "      <td>SR</td>\n",
       "    </tr>\n",
       "    <tr>\n",
       "      <th>2</th>\n",
       "      <td>410.541321</td>\n",
       "      <td>505.417938</td>\n",
       "      <td>1063.080444</td>\n",
       "      <td>SR</td>\n",
       "    </tr>\n",
       "    <tr>\n",
       "      <th>3</th>\n",
       "      <td>414.326447</td>\n",
       "      <td>502.274017</td>\n",
       "      <td>1067.086670</td>\n",
       "      <td>SR</td>\n",
       "    </tr>\n",
       "    <tr>\n",
       "      <th>4</th>\n",
       "      <td>402.465637</td>\n",
       "      <td>505.989532</td>\n",
       "      <td>1078.359619</td>\n",
       "      <td>SR</td>\n",
       "    </tr>\n",
       "  </tbody>\n",
       "</table>\n",
       "</div>"
      ],
      "text/plain": [
       "            x           y            z layer\n",
       "0  401.123138  507.465424  1080.862549    SR\n",
       "1  401.029205  507.618988  1080.988281    SR\n",
       "2  410.541321  505.417938  1063.080444    SR\n",
       "3  414.326447  502.274017  1067.086670    SR\n",
       "4  402.465637  505.989532  1078.359619    SR"
      ]
     },
     "execution_count": 12,
     "metadata": {},
     "output_type": "execute_result"
    }
   ],
   "source": [
    "synapses.head()"
   ]
  },
  {
   "cell_type": "code",
   "execution_count": 31,
   "metadata": {},
   "outputs": [
    {
     "data": {
      "image/png": "[encoded data removed]",
      "text/plain": [
       "<Figure size 432x288 with 1 Axes>"
      ]
     },
     "metadata": {
      "needs_background": "light"
     },
     "output_type": "display_data"
    }
   ],
   "source": [
    "# model distribution\n",
    "layers = ['SO', 'SP', 'SR', 'SLM']\n",
    "mod_y_distr = np.array([np.count_nonzero(synapses.layer==layer) for layer in layers], dtype=np.float32)\n",
    "mod_y_distr = mod_y_distr/mod_y_distr.sum()\n",
    "exp_y_distr = [0.2476014415, 0.0705293209, 0.6792951748, 0.0025740628]\n",
    "x = np.arange(4)\n",
    "fig, ax = plt.subplots()\n",
    "ax.bar(x, mod_y_distr, label='simulation')\n",
    "ax.plot(x,exp_y_distr,color='r', label='expected')\n",
    "plt.xticks(x, layers)\n",
    "fig.suptitle('Distribution of synapses along the radial axis')\n",
    "ax.set_xlabel('layer')\n",
    "ax.set_ylabel('frequency')\n",
    "plt.legend(loc='upper right')\n",
    "plt.show()"
   ]
  },
  {
   "cell_type": "markdown",
   "metadata": {},
   "source": [
    "### Distribution over XZ plane\n",
    "\n",
    "Verify that the synapses are distributed uniformly in the XZ plane"
   ]
  },
  {
   "cell_type": "code",
   "execution_count": 32,
   "metadata": {},
   "outputs": [
    {
     "data": {
      "text/plain": [
       "[]"
      ]
     },
     "execution_count": 32,
     "metadata": {},
     "output_type": "execute_result"
    },
    {
     "data": {
      "image/png": "[encoded data removed]",
      "text/plain": [
       "<Figure size 720x576 with 2 Axes>"
      ]
     },
     "metadata": {
      "needs_background": "light"
     },
     "output_type": "display_data"
    }
   ],
   "source": [
    "# convert to density matrix\n",
    "xyz = synapses[[\"x\", \"y\", \"z\"]]\n",
    "\n",
    "import numpy as np\n",
    "def bin_space(x, y, x_min, x_max, y_min, y_max, bin_size):\n",
    "    \"\"\"\"Bins the space for 'density plot'\"\"\"\n",
    "    x_bins = np.arange(x_min, x_max, bin_size)\n",
    "    y_bins = np.arange(y_min, y_max, bin_size)\n",
    "    x_bins = np.append(x_bins, x_max)\n",
    "    y_bins = np.append(y_bins, y_max)\n",
    "    X = np.zeros((len(x_bins)-1, len(y_bins)-1))\n",
    "\n",
    "    for i, (_x_min, _x_max) in enumerate(zip(x_bins[0:-1], x_bins[1:])):\n",
    "        idx_x = np.where((_x_min < x) & (x <= _x_max))[0]\n",
    "        for j, (_y_min, _y_max) in enumerate(zip(y_bins[0:-1], y_bins[1:])):\n",
    "            idx_y = np.where((_y_min < y[idx_x]) & (y[idx_x] <= _y_max))[0]\n",
    "            X[i, j] = len(idx_y)\n",
    "        \n",
    "    X[np.where(X == 0)] = np.nan\n",
    "    return X\n",
    "\n",
    "x_min = -260.0; x_max = 980.0\n",
    "z_min = -20.0; z_max = 1280.0\n",
    "bin_size = 20\n",
    "dens_O1 = bin_space(xyz[\"x\"].values, xyz[\"z\"].values, x_min, x_max, z_min, z_max, bin_size)\n",
    "\n",
    "# plt\n",
    "import matplotlib.pyplot as plt\n",
    "fig = plt.figure(figsize=(10, 8))\n",
    "ax = fig.add_subplot(1, 1, 1)\n",
    "i = ax.imshow(dens_O1, cmap=\"jet\", aspect=\"auto\", interpolation=\"nearest\", origin=\"lower\")\n",
    "fig.colorbar(i, label=\"nr. of synapses/bin\")\n",
    "ax.set_title(\"Distribution of projections (O1)\")\n",
    "ax.set_xlabel(\"X\"); ax.set_ylabel(\"Z\")\n",
    "ax.set_xticks([]); ax.set_yticks([])"
   ]
  },
  {
   "cell_type": "code",
   "execution_count": null,
   "metadata": {
    "jupyter": {
     "outputs_hidden": true
    }
   },
   "outputs": [],
   "source": []
  }
 ],
 "metadata": {
  "kernelspec": {
   "display_name": "Python 3",
   "language": "python",
   "name": "python3"
  },
  "language_info": {
   "codemirror_mode": {
    "name": "ipython",
    "version": 3
   },
   "file_extension": ".py",
   "mimetype": "text/x-python",
   "name": "python",
   "nbconvert_exporter": "python",
   "pygments_lexer": "ipython3",
   "version": "3.6.8"
  }
 },
 "nbformat": 4,
 "nbformat_minor": 4
}
