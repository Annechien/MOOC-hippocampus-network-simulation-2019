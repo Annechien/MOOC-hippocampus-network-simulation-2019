{
 "cells": [
  {
   "cell_type": "code",
   "execution_count": 1,
   "metadata": {},
   "outputs": [],
   "source": [
    "import numpy\n",
    "import json\n",
    "\n",
    "from matplotlib import pyplot as plt\n",
    "from scipy import sparse\n",
    "from scipy.stats import hypergeom\n",
    "from scipy import spatial\n",
    "\n",
    "from bluepysnap import Circuit"
   ]
  },
  {
   "cell_type": "code",
   "execution_count": 5,
   "metadata": {},
   "outputs": [
    {
     "name": "stdout",
     "output_type": "stream",
     "text": [
      "\u001b[31mDEPRECATION: The default format will switch to columns in the future. You can use --format=(legacy|columns) (or define a format=(legacy|columns) in your pip.conf under the [list] section) to disable this warning.\u001b[0m\n",
      "absl-py (0.8.1)\n",
      "aiohttp (3.6.2)\n",
      "alembic (1.3.1)\n",
      "asn1crypto (0.24.0)\n",
      "astor (0.8.0)\n",
      "async-generator (1.10)\n",
      "async-timeout (3.0.1)\n",
      "atomicwrites (1.3.0)\n",
      "attrs (19.3.0)\n",
      "Automat (0.6.0)\n",
      "backcall (0.1.0)\n",
      "bash-kernel (0.7.2)\n",
      "bleach (3.1.0)\n",
      "blinker (1.4)\n",
      "bluepysnap (0.1.2)\n",
      "bokeh (1.4.0)\n",
      "cached-property (1.5.1)\n",
      "Cartopy (0.17.0)\n",
      "certifi (2019.11.28)\n",
      "certipy (0.1.3)\n",
      "cffi (1.13.2)\n",
      "chardet (3.0.4)\n",
      "Click (7.0)\n",
      "cloud-init (19.2)\n",
      "colorama (0.4.1)\n",
      "command-not-found (0.3)\n",
      "configobj (5.0.6)\n",
      "constantly (15.1.0)\n",
      "cryptography (2.8)\n",
      "cycler (0.10.0)\n",
      "Cython (0.29.14)\n",
      "decorator (4.4.1)\n",
      "defusedxml (0.6.0)\n",
      "dgl (0.4.1)\n",
      "distro-info (0.18ubuntu0.18.04.1)\n",
      "entrypoints (0.3)\n",
      "enum-compat (0.0.3)\n",
      "future (0.18.2)\n",
      "gast (0.3.2)\n",
      "gitdb2 (2.0.6)\n",
      "GitPython (3.0.5)\n",
      "google-pasta (0.1.8)\n",
      "grpcio (1.25.0)\n",
      "h5py (2.10.0)\n",
      "httplib2 (0.9.2)\n",
      "hyperlink (17.3.1)\n",
      "idna (2.8)\n",
      "idna-ssl (1.1.0)\n",
      "imageio (2.6.1)\n",
      "importlib-metadata (1.1.0)\n",
      "incremental (16.10.1)\n",
      "ipydatawidgets (4.0.1)\n",
      "ipykernel (5.1.3)\n",
      "ipympl (0.3.3)\n",
      "ipyparallel (6.2.4)\n",
      "ipython (7.10.1)\n",
      "ipython-genutils (0.2.0)\n",
      "ipyvolume (0.5.2)\n",
      "ipywebrtc (0.5.0)\n",
      "ipywidgets (7.5.1)\n",
      "jedi (0.15.1)\n",
      "Jinja2 (2.10.3)\n",
      "joblib (0.14.0)\n",
      "json5 (0.8.5)\n",
      "jsonpatch (1.16)\n",
      "jsonpointer (1.10)\n",
      "jsonschema (3.2.0)\n",
      "jupyter-c-kernel (1.2.2)\n",
      "jupyter-client (5.3.4)\n",
      "jupyter-core (4.6.1)\n",
      "jupyter-server-proxy (1.2.0)\n",
      "jupyterhub (1.0.0)\n",
      "jupyterhub-dummyauthenticator (0.3.1)\n",
      "jupyterhub-systemdspawner (0.13)\n",
      "jupyterlab (1.2.3)\n",
      "jupyterlab-git (0.8.1)\n",
      "jupyterlab-server (1.0.6)\n",
      "Keras-Applications (1.0.8)\n",
      "Keras-Preprocessing (1.1.0)\n",
      "kiwisolver (1.1.0)\n",
      "language-selector (0.1)\n",
      "ldap3 (2.6.1)\n",
      "libsonata (0.1.1)\n",
      "Mako (1.1.0)\n",
      "Markdown (3.1.1)\n",
      "MarkupSafe (1.1.1)\n",
      "matplotlib (3.1.2)\n",
      "metakernel (0.24.3)\n",
      "mistune (0.8.4)\n",
      "more-itertools (8.0.0)\n",
      "multidict (4.6.1)\n",
      "mysql-connector-python (8.0.18)\n",
      "nbconvert (5.6.1)\n",
      "nbdime (1.1.0)\n",
      "nbformat (4.4.0)\n",
      "nbgitpuller (0.8.0)\n",
      "netifaces (0.10.4)\n",
      "networkx (2.4)\n",
      "neurom (1.4.15)\n",
      "NEURON (7.6)\n",
      "notebook (6.0.2)\n",
      "numpy (1.17.4)\n",
      "oauthlib (3.1.0)\n",
      "octave-kernel (0.31.0)\n",
      "packaging (19.2)\n",
      "PAM (0.4.2)\n",
      "pamela (1.0.0)\n",
      "pandas (0.25.3)\n",
      "pandas-flavor (0.2.0)\n",
      "pandocfilters (1.4.2)\n",
      "parso (0.5.1)\n",
      "pathlib (1.0.1)\n",
      "patsy (0.5.1)\n",
      "pexpect (4.7.0)\n",
      "pickleshare (0.7.5)\n",
      "Pillow (6.2.1)\n",
      "pingouin (0.3.1)\n",
      "pip (9.0.1)\n",
      "plotly (4.3.0)\n",
      "pluggy (0.13.1)\n",
      "portalocker (1.5.2)\n",
      "prometheus-client (0.7.1)\n",
      "prompt-toolkit (3.0.2)\n",
      "protobuf (3.11.1)\n",
      "psutil (5.6.7)\n",
      "ptyprocess (0.6.0)\n",
      "py (1.8.0)\n",
      "pyarrow (0.15.1)\n",
      "pyasn1 (0.4.8)\n",
      "pyasn1-modules (0.2.1)\n",
      "pycairo (1.16.2)\n",
      "pycparser (2.19)\n",
      "pycurl (7.43.0.3)\n",
      "Pygments (2.5.2)\n",
      "pygobject (3.26.1)\n",
      "PyGSP (0.5.1)\n",
      "PyJWT (1.5.3)\n",
      "pylru (1.2.0)\n",
      "pynrrd (0.4.1)\n",
      "pyOpenSSL (19.1.0)\n",
      "pyparsing (2.4.5)\n",
      "pyrsistent (0.15.6)\n",
      "pyserial (3.4)\n",
      "pyshp (2.1.0)\n",
      "pytest (5.3.1)\n",
      "python-apt (1.6.4)\n",
      "python-arango (5.2.1)\n",
      "python-dateutil (2.8.1)\n",
      "python-debian (0.1.32)\n",
      "python-editor (1.0.4)\n",
      "python-igraph (0.7.1.post6)\n",
      "python-magic (0.4.16)\n",
      "pythreejs (2.1.1)\n",
      "pytz (2019.3)\n",
      "PyWavelets (1.1.1)\n",
      "PyYAML (5.2)\n",
      "pyzmq (18.1.1)\n",
      "requests (2.22.0)\n",
      "requests-unixsocket (0.1.5)\n",
      "researchpy (0.1.8)\n",
      "retrying (1.3.3)\n",
      "rise (5.6.0)\n",
      "rpy2 (3.2.2)\n",
      "s3cmd (2.0.1)\n",
      "SchemDraw (0.5.0)\n",
      "scikit-image (0.16.2)\n",
      "scikit-learn (0.22)\n",
      "scipy (1.3.3)\n",
      "seaborn (0.9.0)\n",
      "selenium (3.141.0)\n",
      "Send2Trash (1.5.0)\n",
      "service-identity (16.0.0)\n",
      "setproctitle (1.1.10)\n",
      "setuptools (42.0.2)\n",
      "Shapely (1.6.4.post2)\n",
      "simpervisor (0.3)\n",
      "simplegeneric (0.8.1)\n",
      "six (1.13.0)\n",
      "smmap2 (2.0.5)\n",
      "SQLAlchemy (1.3.11)\n",
      "ssh-import-id (5.7)\n",
      "statsmodels (0.10.2)\n",
      "systemd-python (234)\n",
      "tensorboard (1.14.0)\n",
      "tensorflow (1.14.0)\n",
      "tensorflow-estimator (1.14.0)\n",
      "termcolor (1.1.0)\n",
      "terminado (0.8.3)\n",
      "testpath (0.4.4)\n",
      "torch (1.3.1)\n",
      "tornado (6.0.3)\n",
      "tqdm (4.40.0)\n",
      "traitlets (4.3.3)\n",
      "traittypes (0.2.1)\n",
      "Twisted (17.9.0)\n",
      "typing-extensions (3.7.4.1)\n",
      "tzlocal (2.0.0)\n",
      "ufw (0.36)\n",
      "urllib3 (1.25.7)\n",
      "vpn-slice (0.11)\n",
      "wcwidth (0.1.7)\n",
      "webencodings (0.5.1)\n",
      "Werkzeug (0.16.0)\n",
      "wheel (0.33.6)\n",
      "widgetsnbextension (3.5.1)\n",
      "wrapt (1.11.2)\n",
      "xarray (0.14.1)\n",
      "yarl (1.4.1)\n",
      "zipp (0.6.0)\n",
      "zope.interface (4.3.2)\n"
     ]
    }
   ],
   "source": [
    "!pip list\n"
   ]
  },
  {
   "cell_type": "code",
   "execution_count": 2,
   "metadata": {},
   "outputs": [],
   "source": [
    "circuit_path = '/home/tdelemon/1.Workdir/tests/mooc-106/circuit/circuit_config.json'\n",
    "circuit = Circuit(circuit_path)\n",
    "cells = circuit.nodes[\"hippocampus_neurons\"]\n",
    "conn = circuit.edges[\"hippocampus_neurons__hippocampus_neurons__chemical\"]"
   ]
  },
  {
   "cell_type": "code",
   "execution_count": 3,
   "metadata": {},
   "outputs": [],
   "source": [
    "analyze_population = 'Excitatory'\n",
    "n_smpl = 2500\n",
    "analyze_gids = cells.ids(analyze_population, sample=n_smpl)  # get the identifiers of target neurons"
   ]
  },
  {
   "cell_type": "markdown",
   "metadata": {},
   "source": [
    "One feature of connectivity commonly found in local microcircuits is a \"common neighbor bias\". This comes in two parts:\n",
    "1. Pairs of neurons have more \"common neighbors\" than expected by chance.\n",
    "2. The probability that a pair of neuron is connected depends on the number of common neighbors between them\n",
    "\n",
    "First of all, what is a common neighbor? Consider the connection graph of the local circuit, with neurons as nodes and synaptic connections between them as edges. A common neighbor of two nodes A and B is a node that is adjacent to both of them. In a directed network (such as a neural circuit), we can further distinguish several types of common neighbors:\n",
    "1. A common postsynaptic neighbor of two neurons A and B is a neuron innervated by both of them. (Indicated in red in the image below)\n",
    "2. A common presynaptic neighbor of two neurons is a neuron innervating both of them. (Indicated in green in the image below)\n",
    "3. A general common neighbor is a neuron innervating or being innervated by both of them. (Indicated in blue in the image below)\n",
    "\n",
    "![Sketch_CN.png](https://raw.githubusercontent.com/BlueBrain/MOOC-hippocampus-network-simulation-2019/master/notebooks/images/Sketch_CN.png)"
   ]
  },
  {
   "cell_type": "markdown",
   "metadata": {},
   "source": [
    "Perin et al., 2011 repeatedly sampled up to eight neurons of a local circuit and detected the connections between them. Analyzing the data, they found more common neighbors between them than expected by chance.\n",
    "\n",
    "![CN1](https://raw.githubusercontent.com/BlueBrain/MOOC-hippocampus-network-simulation-2019/master/notebooks/images/CN1.png)"
   ]
  },
  {
   "cell_type": "markdown",
   "metadata": {},
   "source": [
    "In the model microcircuit we can perform a similar analysis, but instead of considering only a hand full of neurons at a time, we can look at all of them simultaneously, for a more global picture.\n",
    "In this exercise, we will only analyze postsynaptic neighbors; we leave it to the interested reader to adapt it for presynaptic or general common neighbors.\n",
    "\n",
    "These analyses are most easily performed on connection matrices. So let's start with the code to extract a connection matrix from a model microcircuit. We will represent the matrix as a scipy.sparse matrix, because connectivity is very sparse."
   ]
  },
  {
   "cell_type": "code",
   "execution_count": 4,
   "metadata": {},
   "outputs": [
    {
     "data": {
      "text/plain": [
       "<matplotlib.image.AxesImage at 0x7fc1e0aaf160>"
      ]
     },
     "execution_count": 4,
     "metadata": {},
     "output_type": "execute_result"
    },
    {
     "data": {
      "image/png": "[encoded data removed]",
      "text/plain": [
       "<Figure size 432x288 with 1 Axes>"
      ]
     },
     "metadata": {
      "needs_background": "light"
     },
     "output_type": "display_data"
    }
   ],
   "source": [
    "def efferent_con_mat(pop_gids):\n",
    "    '''Returns a sparse matrix of the EFFERENT connectivity of neurons in\n",
    "    the specified population'''\n",
    "    shape = (len(pop_gids), cells.size) # The output shape is (number of neurons in population x number of neurons in circuit)\n",
    "    \n",
    "    post = [conn.efferent_nodes(_g) for _g in pop_gids]  # Get identifiers of connected neurons\n",
    "    '''prepare the sparse matrix representation, where the column indices for row i are stored in\n",
    "    \"indices[indptr[i]:indptr[i+1]]\" and their corresponding values are stored in \"data[indptr[i]:indptr[i+1]]\".'''\n",
    "    indptr = numpy.hstack((0, numpy.cumsum(list(map(len, post)))))\n",
    "    indices = numpy.hstack(post)\n",
    "    data = numpy.ones_like(indices, dtype=bool) # Simple boolean connection matrix. A connection exists or not.\n",
    "    return sparse.csr_matrix((data, indices, indptr), shape=shape)\n",
    "\n",
    "#For this example, we will look at connectivity and common neighbors between L5_MC neurons.\n",
    "connections = efferent_con_mat(analyze_gids)\n",
    "# Let's look at the result\n",
    "ax = plt.figure().add_axes([0.1, 0.1, 0.8, 0.8])\n",
    "ax.imshow(connections.toarray()[:1000, 9000:10000], cmap='Greys')"
   ]
  },
  {
   "cell_type": "markdown",
   "metadata": {},
   "source": [
    "We see that the connectivity is indeed relatively sparse.\n",
    "\n",
    "Now, given a connection matrix. How do we calculate the numbers of common neighbors between neurons? For each row, an entry is 1 if a given neuron is connected to the neuron represented by the row. If an entry is 1 in two different rows, then it is a common neighbor of the two neurons represented by the rows. Consequently, the inner product of two row, i.e. the sum of their elementwise product is the number of common neighbors. That means, we can get the full matrix of common neighbors simply as the product of the connection matrix with its transpose!"
   ]
  },
  {
   "cell_type": "code",
   "execution_count": 5,
   "metadata": {},
   "outputs": [
    {
     "data": {
      "image/png": "[encoded data removed]",
      "text/plain": [
       "<Figure size 432x288 with 1 Axes>"
      ]
     },
     "metadata": {
      "needs_background": "light"
     },
     "output_type": "display_data"
    }
   ],
   "source": [
    "def common_efferent_neighbors(M):\n",
    "    CN = M.astype(int) * M.astype(int).transpose() # need to convert to int, so that neighbors are counted\n",
    "    return CN.toarray()\n",
    "\n",
    "com_neighs = common_efferent_neighbors(connections)\n",
    "\n",
    "ax = plt.figure().add_axes([0.1, 0.1, 0.8, 0.8])\n",
    "ax.imshow(com_neighs, cmap='Greys');"
   ]
  },
  {
   "cell_type": "markdown",
   "metadata": {},
   "source": [
    "Note the very large entries along the main diagonal. They correspond to the product of a row with itself, yielding simply the number of neurons innervated by the neuron represented by the row. Do not mistake these entries for actual common neighbor numbers!\n",
    "\n",
    "Now, let us generate a histogram of the number of common neighbors of neuron pairs."
   ]
  },
  {
   "cell_type": "code",
   "execution_count": 6,
   "metadata": {
    "jupyter": {
     "outputs_hidden": true
    }
   },
   "outputs": [],
   "source": [
    "def cn_mat_to_histogram(CN, bins):\n",
    "    '''limit to upper triangular matrix. This excludes the diagonal entries and redundant entries, because the common\n",
    "    neighbor matrix is always symmetrical!\n",
    "    '''\n",
    "    return numpy.histogram(numpy.triu(CN, 1), bins=bins)[0]\n",
    "\n",
    "xbins = numpy.arange(502) # count from 0 to 500 common neighbors\n",
    "H = cn_mat_to_histogram(com_neighs, xbins)"
   ]
  },
  {
   "cell_type": "markdown",
   "metadata": {},
   "source": [
    "As mentioned above, all of this is the number of efferent neighbors. \n",
    "\n",
    "### Exercise 1: Calculate the numbers of common afferent neighbors between the sampled neurons\n",
    "Use the following cell to that effect and answer the following questions:\n",
    "#### 1a: What is the highest number of common afferent neighbors between the sampled neurons.\n",
    "Assign the answer to a variable called ans_1a\n",
    "\n",
    "#### 1b: How many pairs of neurons (of the sampled population) have more than 100 common afferent neighbors\n",
    "Make sure to not count pairs twice, i.e. exclude redundant parts. Assign the answer to a variable called ans_1b"
   ]
  },
  {
   "cell_type": "code",
   "execution_count": 7,
   "metadata": {
    "jupyter": {
     "outputs_hidden": true
    }
   },
   "outputs": [],
   "source": [
    "# work here"
   ]
  },
  {
   "cell_type": "markdown",
   "metadata": {},
   "source": [
    "What should we compare the result to? As a first, naive approach let's compare the the expected number in an Erdos-Renyi network of the same size and the same distribution of out-degrees. In that control model, given a neuron A with an out-degree d_A and a neuron B with an out-degree the number of common neighbors between them is described by the hypergeometrical distribution hypergeom(N, d_A, d_B), where N is the number of neurons in the network.\n",
    "\n",
    "For this control, it is handy that we know the out-degrees of the neurons (entries along the main diagonal of the common neighbor matrix)."
   ]
  },
  {
   "cell_type": "code",
   "execution_count": 8,
   "metadata": {},
   "outputs": [
    {
     "data": {
      "text/plain": [
       "Text(0, 0.5, 'Pairs')"
      ]
     },
     "execution_count": 8,
     "metadata": {},
     "output_type": "execute_result"
    },
    {
     "data": {
      "image/png": "[encoded data removed]",
      "text/plain": [
       "<Figure size 432x288 with 1 Axes>"
      ]
     },
     "metadata": {
      "needs_background": "light"
     },
     "output_type": "display_data"
    }
   ],
   "source": [
    "def control_erdos_renyi_histogram(CN, N, bins):\n",
    "    out_degrees = numpy.diag(CN)\n",
    "    '''Note: Here, we simply draw a random sample for each pair of neurons.\n",
    "    Better, but more expensive would be to evaluate the probability mass function\n",
    "    for all bins and for all pairs.'''\n",
    "    expected = [hypergeom(N, d_A, out_degrees[(i+1):]).rvs()\n",
    "                for i, d_A in enumerate(out_degrees)]\n",
    "    return numpy.histogram(numpy.hstack(expected), bins=bins)[0]\n",
    "\n",
    "H_ctrl_er = control_erdos_renyi_histogram(com_neighs, connections.shape[1], xbins)\n",
    "\n",
    "ax = plt.figure().add_axes([0.1, 0.1, 0.8, 0.8])\n",
    "ax.plot(xbins[:-1], H, color='red', marker='o', label='Experiment')\n",
    "ax.plot(xbins[:-1], H_ctrl_er, color='black', marker='o', label='Control (ER)')\n",
    "ax.set_yscale('log'); ax.legend(); ax.set_xlabel('Common neighbors'); ax.set_ylabel('Pairs')\n"
   ]
  },
  {
   "cell_type": "markdown",
   "metadata": {},
   "source": [
    "Wow, that is a gigantic difference! At first glance much stronger than Perin et al., 2011 found.\n",
    "To assess the significance, let's do some very basic statistics"
   ]
  },
  {
   "cell_type": "markdown",
   "metadata": {},
   "source": [
    "As an exercise let's do a bit of toy statistics.\n",
    "### Exercise 2: What is the probability of finding the observed common neighbor numbers in the Erdos-renyi control?\n",
    "#### 2a: How many pairs of neurons (of the sampled population) have more than 100 common efferent neighbors in the modeled hippocampal microcircuit?\n",
    "Assign the answer to a variable called ans_2a\n",
    "#### 2b: What is the expected number of pairs of neurons with more than 100 common efferent neighbors in the Erdos-renyi control?\n",
    "Evaluate the cumulative distribution of common neighbor numbers for all pairs in the control model to answer. Assign the answer to a variable called ans_2b"
   ]
  },
  {
   "cell_type": "code",
   "execution_count": 9,
   "metadata": {
    "jupyter": {
     "outputs_hidden": true
    }
   },
   "outputs": [],
   "source": [
    "# work here"
   ]
  },
  {
   "cell_type": "markdown",
   "metadata": {},
   "source": [
    "Can we explain the observed difference between model and control? Well, let us remember what else we know about neuron connectivity in local circuits. We know from an earlier exercise that it is highly distance-dependent.\n",
    "\n",
    "That means, if two neurons are close to each other, they are more likely to be connected. And a trio of neurons that is close to each other is very likely to form a motif where one is the common neighbor of the other two. But the naive ER control does not take that into account. All the control sees is that the average connectivity, sampled across small and large distances alike is very sparse, and thus common neighbors are expected to be very uncommon. (The interested reader can try to prove analytically that a distance dependent network has more common neighbors than an ER network of equal size and sparsity. It is not very hard if you assume exponential distance dependence).\n",
    "\n",
    "Why was the Perin et al. result not affected so strongly? Because they sampled neuron populations at always roughly the same distance (~150 um), while we looked at all pairs at all distances.\n",
    "\n",
    "So, as a better control, let us compare to a network with the same distance dependence of connectivity.\n",
    "First, we generate such a control."
   ]
  },
  {
   "cell_type": "code",
   "execution_count": 10,
   "metadata": {},
   "outputs": [
    {
     "name": "stderr",
     "output_type": "stream",
     "text": [
      "/home/tdelemon/.virtualenvs/mooc/lib/python3.6/site-packages/IPython/core/pylabtools.py:132: UserWarning: Creating legend with loc=\"best\" can be slow with large amounts of data.\n",
      "  fig.canvas.print_figure(bytes_io, **kw)\n"
     ]
    },
    {
     "data": {
      "image/png": "[encoded data removed]",
      "text/plain": [
       "<Figure size 432x288 with 1 Axes>"
      ]
     },
     "metadata": {
      "needs_background": "light"
     },
     "output_type": "display_data"
    }
   ],
   "source": [
    "nbins = 50\n",
    "\n",
    "def connect_keep_dist_dep(D, C, nbins):\n",
    "    '''Randomly connect a number of neurons, keeping their distance dependence intact.\n",
    "    D: Matrix (AxN) of distances to all other neurons in the circuit\n",
    "    C: Matrix (AxN) of connections to all other neurons in the circuit (boolean)'''\n",
    "    dbins = numpy.linspace(0, D.max(), nbins + 1) + 0.1\n",
    "    Di = numpy.digitize(D, bins=dbins) - 1\n",
    "    H_connected = numpy.histogram(Di[C.toarray()], bins=range(nbins + 1))[0]\n",
    "    H_all = numpy.histogram(Di, bins=range(nbins + 1))[0]\n",
    "    P = H_connected.astype(float) / H_all\n",
    "    n_eff = numpy.array(C.sum(axis=1)).transpose()[0]\n",
    "    indptr = [0]\n",
    "    indices = []\n",
    "    for row, n in zip(Di, n_eff):\n",
    "        p_row = P[row]\n",
    "        p_row[row == -1] = 0\n",
    "        p_row = p_row / p_row.sum()\n",
    "        rnd = numpy.random.choice(len(row), n, replace=False, p=p_row)\n",
    "        indices.extend(rnd)\n",
    "        indptr.append(indptr[-1] + n)\n",
    "    data = numpy.ones_like(indices, dtype=bool)\n",
    "    return sparse.csr_matrix((data, indices, indptr), shape=D.shape)\n",
    "\n",
    "xyz = cells.positions()\n",
    "# get distance matrix as an input\n",
    "D = spatial.distance_matrix(xyz.loc[analyze_gids], xyz)\n",
    "\n",
    "# generate random instance\n",
    "rnd_connections = connect_keep_dist_dep(D, connections, nbins)\n",
    "\n",
    "# compare distribution of distances of connected neurons\n",
    "ax = plt.figure().add_axes([0.1, 0.1, 0.8, 0.8])\n",
    "ax.plot(sorted(D[connections.toarray()]), label='Data')\n",
    "ax.plot(sorted(D[rnd_connections.toarray()]), label='Control')\n",
    "ax.legend(); ax.set_xlabel('Connection #'); ax.set_ylabel('Distance (um)');"
   ]
  },
  {
   "cell_type": "markdown",
   "metadata": {},
   "source": [
    "As we can see, the random control preserves the distance dependence (strictly we have shown: It preserves the cumulative distribution of distances of connected neuron pairs). And indeed, it even preserves the out-degrees of all individual neurons. This is a much more powerful control than the ER control earlier. \n",
    "Now let's see the common neighbor distributrion."
   ]
  },
  {
   "cell_type": "code",
   "execution_count": 11,
   "metadata": {},
   "outputs": [
    {
     "data": {
      "image/png": "[encoded data removed]",
      "text/plain": [
       "<Figure size 432x288 with 1 Axes>"
      ]
     },
     "metadata": {
      "needs_background": "light"
     },
     "output_type": "display_data"
    }
   ],
   "source": [
    "rnd_com_neighs = common_efferent_neighbors(rnd_connections)\n",
    "rnd_H = cn_mat_to_histogram(rnd_com_neighs, xbins)\n",
    "\n",
    "ax = plt.figure().add_axes([0.1, 0.1, 0.8, 0.8])\n",
    "ax.plot(xbins[:-1], H, color='red', marker='o', label='Experiment')\n",
    "ax.plot(xbins[:-1], rnd_H, color='black', marker='o', label='Control (Dist-dep.)')\n",
    "ax.set_yscale('log'); ax.legend(); ax.set_xlabel('Common neighbors'); ax.set_ylabel('Pairs');"
   ]
  },
  {
   "cell_type": "markdown",
   "metadata": {},
   "source": [
    "We still see a very strong difference, although indeed weaker than for the naive ER control. The presence of a clearly significant difference in spite of the strong control (preserving both out-degrees of all individual neurons and the distance-dependence) indicates the presence of a clear bias for an increased number of common neighbors.\n",
    "\n",
    "Let's measure the strength of the bias as in Reimann et al., 2017: The normalized difference in slope of linear fits of the logarithm of the distributions. (Although in that paper we used the average of 10 random controls instead of just 1).\n",
    "Note: This analysis is stable against subsampling because the calculation is performed in log-space. Subsampling only affects the expected value of the offset, not of the slope."
   ]
  },
  {
   "cell_type": "code",
   "execution_count": 12,
   "metadata": {
    "jupyter": {
     "outputs_hidden": true
    }
   },
   "outputs": [
    {
     "name": "stdout",
     "output_type": "stream",
     "text": [
      "0.2629815353123428\n"
     ]
    },
    {
     "name": "stderr",
     "output_type": "stream",
     "text": [
      "/home/tdelemon/.virtualenvs/mooc/lib/python3.6/site-packages/ipykernel_launcher.py:3: RuntimeWarning: divide by zero encountered in log10\n",
      "  This is separate from the ipykernel package so we can avoid doing imports until\n",
      "/home/tdelemon/.virtualenvs/mooc/lib/python3.6/site-packages/ipykernel_launcher.py:4: RuntimeWarning: divide by zero encountered in log10\n",
      "  after removing the cwd from sys.path.\n"
     ]
    }
   ],
   "source": [
    "def cn_bias_1(H_data, H_ctrl):\n",
    "    assert len(H_data) == len(H_ctrl)\n",
    "    log_data = numpy.log10(H_data[1:]) # exclude the bin at 0\n",
    "    log_ctrl = numpy.log10(H_ctrl[1:])\n",
    "    idx_data = numpy.nonzero(~numpy.isinf(log_data))[0] # exclude zero bins\n",
    "    idx_ctrl = numpy.nonzero(~numpy.isinf(log_ctrl))[0]\n",
    "    slope_data = numpy.polyfit(idx_data.astype(float), log_data[idx_data], 1)[0]\n",
    "    slope_ctrl = numpy.polyfit(idx_ctrl.astype(float), log_ctrl[idx_ctrl], 1)[0]\n",
    "    return (slope_ctrl - slope_data) / slope_ctrl\n",
    "\n",
    "print(cn_bias_1(H, rnd_H))"
   ]
  },
  {
   "cell_type": "markdown",
   "metadata": {},
   "source": [
    "As before, let's do the same analysis for afferent common neighbors as an exercise.\n",
    "### Exercise 3: Calculate the afferent common neigbor bias\n",
    "#### 3a: Calculate a control network that preserves the distance dependence and the in-degree of every individual neuron. How many pairs in this control have more than 100 common afferent neighbors?\n",
    "That is: Preserve in-degree instead of out-degree for this control. As the result is stochastic, you have to only approximately get it right. Assign the answer to a variable ans_3a\n",
    "#### 3b: What is the strength of the bias for an increased number of common afferent neighbors between the sampled neurons?\n",
    "That is, cn_bias_1, but for afferent bias and comparing to the control preserving in-degree. Assign the answer to a variable ans_3b"
   ]
  },
  {
   "cell_type": "code",
   "execution_count": null,
   "metadata": {},
   "outputs": [],
   "source": [
    "# work here"
   ]
  },
  {
   "cell_type": "code",
   "execution_count": null,
   "metadata": {},
   "outputs": [],
   "source": [
    "# This is to generate the answers to paste in the submission box below.\n",
    "# Run this and copy-paste the output into the box below\n",
    "print(json.dumps(dict([(\"ans_1a\", ans_1a),\n",
    "                       (\"ans_1b\", ans_1b),\n",
    "                       (\"ans_2a\", ans_2a),\n",
    "                       (\"ans_2b\", ans_2b),\n",
    "                       (\"ans_3a\", ans_3a),\n",
    "                       (\"ans_3b\", ans_3b)])))\n"
   ]
  },
  {
   "cell_type": "code",
   "execution_count": null,
   "metadata": {},
   "outputs": [],
   "source": [
    "!pip -q install -i https://bbpteam.epfl.ch/repository/devpi/simple/ single-cell-mooc-client==0.0.5 \n",
    "import single_cell_mooc_client as sc_mc\n",
    "s = sc_mc.Submission(hideToken=True)"
   ]
  },
  {
   "cell_type": "code",
   "execution_count": null,
   "metadata": {},
   "outputs": [],
   "source": [
    "s.show_submission(ROLLBACK, TOKEN)"
   ]
  }
 ],
 "metadata": {
  "kernelspec": {
   "display_name": "Python 3",
   "language": "python",
   "name": "python3"
  },
  "language_info": {
   "codemirror_mode": {
    "name": "ipython",
    "version": 3
   },
   "file_extension": ".py",
   "mimetype": "text/x-python",
   "name": "python",
   "nbconvert_exporter": "python",
   "pygments_lexer": "ipython3",
   "version": "3.6.8"
  }
 },
 "nbformat": 4,
 "nbformat_minor": 4
}
